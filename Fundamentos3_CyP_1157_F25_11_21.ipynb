{
  "nbformat": 4,
  "nbformat_minor": 0,
  "metadata": {
    "colab": {
      "name": "Fundamentos3_CyP_1157_F25/11/21.ipynb",
      "provenance": [],
      "authorship_tag": "ABX9TyNJDNezSOkgYoUXqVDVrBfK",
      "include_colab_link": true
    },
    "kernelspec": {
      "name": "python3",
      "display_name": "Python 3"
    },
    "language_info": {
      "name": "python"
    }
  },
  "cells": [
    {
      "cell_type": "markdown",
      "metadata": {
        "id": "view-in-github",
        "colab_type": "text"
      },
      "source": [
        "<a href=\"https://colab.research.google.com/github/NachoIH31/CompyProg2022G1157/blob/main/Fundamentos3_CyP_1157_F25_11_21.ipynb\" target=\"_parent\"><img src=\"https://colab.research.google.com/assets/colab-badge.svg\" alt=\"Open In Colab\"/></a>"
      ]
    },
    {
      "cell_type": "markdown",
      "metadata": {
        "id": "Yc2UoDDQFfaG"
      },
      "source": [
        "Repetición:\n",
        "\n",
        "Este tipo de estructura nos permite automatizar la ejecucución repetitiva de código mientras ciertas condiciones se cumpan, teneemos 3 variantes de strcutura en todos los leguajes de programación:\n",
        "\n",
        "- Desde...hasta (estructura for)\n",
        "- Haz mientras (estructura While)\n",
        "- Haz y luego validas mientras (estructura Do-While) \n",
        "\n",
        "# FOR con Python\n",
        "\n",
        "```\n",
        "for j in range(10):\n",
        "    print(f\"Hola { j }\")   \n",
        "```\n",
        "\n",
        "# FOR con Lenguaje C y/o Java\n",
        "\n",
        "```\n",
        "for( int j=0 ; j<10 ; j=j+1 ){\n",
        "    printf(\"Hola %i /n\", j );\n",
        "}  \n",
        "```\n",
        "\n",
        "En todos los lenguajes de programación existe un tipo especial de for, conocido como **for-each**\n",
        "\n",
        "# For-each en Python\n",
        "```\n",
        "for color in colores:    \n",
        "    print(f\"Este es el color {color}\")\n",
        "```"
      ]
    },
    {
      "cell_type": "code",
      "metadata": {
        "colab": {
          "base_uri": "https://localhost:8080/"
        },
        "id": "M6lmRyJbFvrm",
        "outputId": "5307582c-264d-4bc3-b2e7-97cdf67e2cde"
      },
      "source": [
        "# función range()\n",
        "# range(<INICIO>,<STOP>,<INCREMENTO>)\n",
        "x = range(0,10,2)\n",
        "print(x)\n",
        "\n",
        "\n",
        "for j in range(10): #range(0,10) --> 0,1,2,3,4,5,6,7,8,9\n",
        "    print(f\"Hola {j}\")\n",
        "\n",
        "print(\"-.-.-.-.-.-.-.\")\n",
        "for j in range(0,10,2): #range(0,10) --> 0,2,4,6,8\n",
        "    print(f\"Hola {j}\")\n",
        "\n",
        "frutas = [\"Uva\",\"aguacate\",\"pera\",\"manzana\",\"sandía\"]\n",
        "\n",
        "print(frutas[0])\n",
        "print(frutas[1])\n",
        "print(frutas[2])\n",
        "print(frutas[3])\n",
        "print(frutas[4])\n",
        "\n",
        "print(\"---Frutas---\")\n",
        "for index in range(5):\n",
        "    print(frutas[index])\n",
        "\n",
        "for i in range(5):\n",
        "    print(\"+++++\")"
      ],
      "execution_count": null,
      "outputs": [
        {
          "output_type": "stream",
          "name": "stdout",
          "text": [
            "range(0, 10, 2)\n",
            "Hola 0\n",
            "Hola 1\n",
            "Hola 2\n",
            "Hola 3\n",
            "Hola 4\n",
            "Hola 5\n",
            "Hola 6\n",
            "Hola 7\n",
            "Hola 8\n",
            "Hola 9\n",
            "-.-.-.-.-.-.-.\n",
            "Hola 0\n",
            "Hola 2\n",
            "Hola 4\n",
            "Hola 6\n",
            "Hola 8\n",
            "Uva\n",
            "aguacate\n",
            "pera\n",
            "manzana\n",
            "sandía\n",
            "---Frutas---\n",
            "Uva\n",
            "aguacate\n",
            "pera\n",
            "manzana\n",
            "sandía\n",
            "+++++\n",
            "+++++\n",
            "+++++\n",
            "+++++\n",
            "+++++\n"
          ]
        }
      ]
    },
    {
      "cell_type": "code",
      "metadata": {
        "id": "tqTb9C_VL0IV"
      },
      "source": [
        " for x in range(1, 20, 1):\n",
        "     print(x)\n",
        "print(\"Fin del programa\")\n",
        "\n",
        "for x in range (19,0,-1):\n",
        "    print(x)\n",
        "print(\"Fin del programa\")"
      ],
      "execution_count": null,
      "outputs": []
    },
    {
      "cell_type": "code",
      "metadata": {
        "colab": {
          "base_uri": "https://localhost:8080/"
        },
        "id": "ko4b0rjHNr54",
        "outputId": "54284cae-c519-4438-88ae-19a2b40d0ff8"
      },
      "source": [
        "# Ejemplo 3.3\n",
        "CUECER = 0\n",
        "NUM = 0\n",
        "N = int(input(\"Introduce un valor numérico mayor que 1: \"))\n",
        "for I in range( 1, N+1, 1):\n",
        "    N = int(input(\"Introduce un valor numérico mayor que 1: \"))\n",
        "    if N == 0:\n",
        "        CUECER += 1\n",
        "print(\"CUECER =\", CUECER)\n"
      ],
      "execution_count": 9,
      "outputs": [
        {
          "output_type": "stream",
          "name": "stdout",
          "text": [
            "Introduce un valor numérico mayor que 1: 4\n",
            "Introduce un valor numérico mayor que 1: 0\n",
            "Introduce un valor numérico mayor que 1: 0\n",
            "Introduce un valor numérico mayor que 1: 2\n",
            "Introduce un valor numérico mayor que 1: 2\n",
            "CUECER = 2\n"
          ]
        }
      ]
    },
    {
      "cell_type": "markdown",
      "metadata": {
        "id": "MeQFtwmYQxMw"
      },
      "source": [
        "7 x 1 = 7\n",
        "7 x 2 = 14\n",
        "...\n",
        "7 x 10 = 70\n"
      ]
    },
    {
      "cell_type": "code",
      "metadata": {
        "colab": {
          "base_uri": "https://localhost:8080/"
        },
        "id": "9MpZ-lfqQsc2",
        "outputId": "b7bb6585-473c-4f56-cc16-b3a10b1e4511"
      },
      "source": [
        "for x in range(1,11):\n",
        "    print(f\"7 X {x}: {7 * x}\")\n"
      ],
      "execution_count": 10,
      "outputs": [
        {
          "output_type": "stream",
          "name": "stdout",
          "text": [
            "7 X 1: 7\n",
            "7 X 2: 14\n",
            "7 X 3: 21\n",
            "7 X 4: 28\n",
            "7 X 5: 35\n",
            "7 X 6: 42\n",
            "7 X 7: 49\n",
            "7 X 8: 56\n",
            "7 X 9: 63\n",
            "7 X 10: 70\n"
          ]
        }
      ]
    },
    {
      "cell_type": "markdown",
      "metadata": {
        "id": "9kD02qe7R46F"
      },
      "source": [
        "¿Dame un numero entre 1 y 5?: 2\n",
        "¿Dame un número entre 2 y 10?: 6"
      ]
    },
    {
      "cell_type": "code",
      "metadata": {
        "colab": {
          "base_uri": "https://localhost:8080/"
        },
        "id": "Xie5Q17DUjcb",
        "outputId": "b38990f2-1293-478f-ebe2-b52776692e41"
      },
      "source": [
        "N1=int(input('ingresa un valor entre 1 y 5: '))\n",
        "if N1 > 0 and N1 <6:\n",
        "    N2=int(input(f'ingresa un valor entre el {N1} y 10: '))\n",
        "    if N2>=N1 and N2<= 10:\n",
        "        for i in range( N1, N2+1):\n",
        "            for j in range(1,11):\n",
        "                print(f\"{i} x {j} = \", i*j)\n",
        "            print(\"---------------\")\n",
        "     \n",
        "    else:\n",
        "        print('El valor ingresado no esta dentro del rango')\n",
        "else:\n",
        "    print('El valor ingresado no esta dentro del rango')"
      ],
      "execution_count": 27,
      "outputs": [
        {
          "output_type": "stream",
          "name": "stdout",
          "text": [
            "ingresa un valor entre 1 y 5: 3\n",
            "ingresa un valor entre el 3 y 10: 8\n",
            "3 x 1 =  3\n",
            "3 x 2 =  6\n",
            "3 x 3 =  9\n",
            "3 x 4 =  12\n",
            "3 x 5 =  15\n",
            "3 x 6 =  18\n",
            "3 x 7 =  21\n",
            "3 x 8 =  24\n",
            "3 x 9 =  27\n",
            "3 x 10 =  30\n",
            "---------------\n",
            "4 x 1 =  4\n",
            "4 x 2 =  8\n",
            "4 x 3 =  12\n",
            "4 x 4 =  16\n",
            "4 x 5 =  20\n",
            "4 x 6 =  24\n",
            "4 x 7 =  28\n",
            "4 x 8 =  32\n",
            "4 x 9 =  36\n",
            "4 x 10 =  40\n",
            "---------------\n",
            "5 x 1 =  5\n",
            "5 x 2 =  10\n",
            "5 x 3 =  15\n",
            "5 x 4 =  20\n",
            "5 x 5 =  25\n",
            "5 x 6 =  30\n",
            "5 x 7 =  35\n",
            "5 x 8 =  40\n",
            "5 x 9 =  45\n",
            "5 x 10 =  50\n",
            "---------------\n",
            "6 x 1 =  6\n",
            "6 x 2 =  12\n",
            "6 x 3 =  18\n",
            "6 x 4 =  24\n",
            "6 x 5 =  30\n",
            "6 x 6 =  36\n",
            "6 x 7 =  42\n",
            "6 x 8 =  48\n",
            "6 x 9 =  54\n",
            "6 x 10 =  60\n",
            "---------------\n",
            "7 x 1 =  7\n",
            "7 x 2 =  14\n",
            "7 x 3 =  21\n",
            "7 x 4 =  28\n",
            "7 x 5 =  35\n",
            "7 x 6 =  42\n",
            "7 x 7 =  49\n",
            "7 x 8 =  56\n",
            "7 x 9 =  63\n",
            "7 x 10 =  70\n",
            "---------------\n",
            "8 x 1 =  8\n",
            "8 x 2 =  16\n",
            "8 x 3 =  24\n",
            "8 x 4 =  32\n",
            "8 x 5 =  40\n",
            "8 x 6 =  48\n",
            "8 x 7 =  56\n",
            "8 x 8 =  64\n",
            "8 x 9 =  72\n",
            "8 x 10 =  80\n",
            "---------------\n"
          ]
        }
      ]
    },
    {
      "cell_type": "code",
      "metadata": {
        "colab": {
          "base_uri": "https://localhost:8080/"
        },
        "id": "2xqm99ObWoIH",
        "outputId": "3a03e9e1-1e11-4045-9e4e-d123c999d2ab"
      },
      "source": [
        "# Generadores de listas\n",
        "numeros = [0,0,0,0,0]\n",
        "print(numeros)\n",
        "numeros = [ 0 for x in range(5) ]\n",
        "print(numeros)\n",
        "\n",
        "# Empleando la variable de control x para el valor inicial\n",
        "numeros = [ x for x in range(5) ]\n",
        "print(numeros)\n",
        "# Empleando la variable de control x para el valor inicial\n",
        "numeros = [ x for x in range(10,101,10) ]\n",
        "print(numeros)\n",
        "print(\"----------\")\n",
        "numeros=[(x+1)*10 for x in range(10)]\n",
        "print(numeros)\n",
        "print(\"----------\")\n",
        "numeros = [ x*10 for x in range(1,11) ]\n",
        "print(numeros)\n"
      ],
      "execution_count": 35,
      "outputs": [
        {
          "output_type": "stream",
          "name": "stdout",
          "text": [
            "[0, 0, 0, 0, 0]\n",
            "[0, 0, 0, 0, 0]\n",
            "[0, 1, 2, 3, 4]\n",
            "[10, 20, 30, 40, 50, 60, 70, 80, 90, 100]\n",
            "----------\n",
            "[10, 20, 30, 40, 50, 60, 70, 80, 90, 100]\n",
            "----------\n",
            "[10, 20, 30, 40, 50, 60, 70, 80, 90, 100]\n"
          ]
        }
      ]
    },
    {
      "cell_type": "code",
      "metadata": {
        "colab": {
          "base_uri": "https://localhost:8080/"
        },
        "id": "XU-JDFHbYV9T",
        "outputId": "8c88b978-7514-4f90-d752-9740856a24df"
      },
      "source": [
        "# Ejercicio: calcular promedio de edades\n",
        "\n",
        "suma = 0\n",
        "edades = [0 for x in range(5)]\n",
        "for x in range(5):\n",
        "    edades[x] = int(input(\"Dame una edad: \"))\n",
        "    suma = suma + edades[x]\n",
        "print(edades)\n",
        "print(\"Promedio: \", suma/5)"
      ],
      "execution_count": 45,
      "outputs": [
        {
          "output_type": "stream",
          "name": "stdout",
          "text": [
            "Dame una edad: 20\n",
            "Dame una edad: 21\n",
            "Dame una edad: 33\n",
            "Dame una edad: 25\n",
            "Dame una edad: 19\n",
            "[20, 21, 33, 25, 19]\n",
            "Promedio:  23.6\n"
          ]
        }
      ]
    },
    {
      "cell_type": "code",
      "metadata": {
        "colab": {
          "base_uri": "https://localhost:8080/"
        },
        "id": "4qlX4AbjcRxd",
        "outputId": "d8ba594d-9996-4751-d63f-e5ee5f2c9d44"
      },
      "source": [
        "import random\n",
        "print(random.random())\n",
        "print(random.uniform(5,11))\n",
        "val = round(random.uniform(5,11) , 2)\n",
        "print(val)\n",
        "\n",
        "valores = [round(random.uniform(5,11),2) for x in range(20)]\n",
        "print(valores)\n",
        "\n",
        "\"\"\" \n",
        "1. Menor de la lista\n",
        "2. Mayor de la lista\n",
        "3. Promedio de la lista\n",
        "\"\"\"\"\n",
        "\n"
      ],
      "execution_count": 54,
      "outputs": [
        {
          "output_type": "stream",
          "name": "stdout",
          "text": [
            "0.5576801638890511\n",
            "7.48413715549135\n",
            "5.8\n",
            "[7.72, 10.0, 6.81, 7.1, 10.65, 10.97, 5.67, 8.36, 10.52, 8.24, 9.46, 9.67, 10.85, 10.49, 10.62, 8.53, 7.76, 6.46, 9.4, 9.57]\n"
          ]
        }
      ]
    }
  ]
}