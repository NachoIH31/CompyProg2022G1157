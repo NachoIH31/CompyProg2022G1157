{
  "nbformat": 4,
  "nbformat_minor": 0,
  "metadata": {
    "colab": {
      "name": "Fundamentos4_CyP_1157_F02/12/21.ipynb",
      "provenance": [],
      "authorship_tag": "ABX9TyPC3uok3iJi26H4QhDivdsn",
      "include_colab_link": true
    },
    "kernelspec": {
      "name": "python3",
      "display_name": "Python 3"
    },
    "language_info": {
      "name": "python"
    }
  },
  "cells": [
    {
      "cell_type": "markdown",
      "metadata": {
        "id": "view-in-github",
        "colab_type": "text"
      },
      "source": [
        "<a href=\"https://colab.research.google.com/github/NachoIH31/CompyProg2022G1157/blob/main/Fundamentos4_CyP_1157_F02_12_21.ipynb\" target=\"_parent\"><img src=\"https://colab.research.google.com/assets/colab-badge.svg\" alt=\"Open In Colab\"/></a>"
      ]
    },
    {
      "cell_type": "markdown",
      "metadata": {
        "id": "P9NTcnWKVOtE"
      },
      "source": [
        "Una función es una unidad de código reutilizable, además de ser un mecanismo para organizar código.\n",
        "\n",
        "La gran ventaja de emplear funciones es simplificar la programación.\n",
        "\n",
        "### Estructura\n",
        "Una función puede tomar cualquier cantidad de parámetros de entrada (de cualquier tipo) y retornar únicamente un sólo valor.\n",
        "\n",
        "Un parámetro de etrada es un valor que recibe la función para realizar sus operaciones.\n",
        "\n",
        "Con una función se pueden hacer dos cosas:           \n",
        "1. Definirla\n",
        "2. Invocarla (ejecutarla)\n",
        "\n",
        "La gran ventaja de tener una función declarada es que la podemos reutilizar cuando se desee."
      ]
    },
    {
      "cell_type": "markdown",
      "metadata": {
        "id": "VJfFJybvULJC"
      },
      "source": [
        "# Modularidad (Funciones)\n",
        "https://drive.google.com/file/d/1jwius9pGgiDmct5ps9iUfl6fdeNfy422/view?usp=drive_web&authuser=0"
      ]
    },
    {
      "cell_type": "code",
      "metadata": {
        "id": "TsX9k7FFUEF6"
      },
      "source": [
        "def sumar( op1 , op2 ):\n",
        "    res = op1 + op2\n",
        "    return res"
      ],
      "execution_count": 5,
      "outputs": []
    },
    {
      "cell_type": "code",
      "metadata": {
        "colab": {
          "base_uri": "https://localhost:8080/"
        },
        "id": "UgcEXUy3YFAO",
        "outputId": "5bd88ef0-6085-4336-a4c1-9941e5f05d40"
      },
      "source": [
        "res = sumar( 2 , 5 )\n",
        "print(res)\n",
        "res = sumar(33,22)\n",
        "print(res)"
      ],
      "execution_count": 7,
      "outputs": [
        {
          "output_type": "stream",
          "name": "stdout",
          "text": [
            "7\n",
            "55\n"
          ]
        }
      ]
    },
    {
      "cell_type": "code",
      "metadata": {
        "colab": {
          "base_uri": "https://localhost:8080/"
        },
        "id": "zw1AN0_AZQfD",
        "outputId": "2f9ce1e3-77f2-4927-d9c3-190507ac0f3c"
      },
      "source": [
        "help(print)"
      ],
      "execution_count": 10,
      "outputs": [
        {
          "output_type": "stream",
          "name": "stdout",
          "text": [
            "Help on built-in function print in module builtins:\n",
            "\n",
            "print(...)\n",
            "    print(value, ..., sep=' ', end='\\n', file=sys.stdout, flush=False)\n",
            "    \n",
            "    Prints the values to a stream, or to sys.stdout by default.\n",
            "    Optional keyword arguments:\n",
            "    file:  a file-like object (stream); defaults to the current sys.stdout.\n",
            "    sep:   string inserted between values, default a space.\n",
            "    end:   string appended after the last value, default a newline.\n",
            "    flush: whether to forcibly flush the stream.\n",
            "\n"
          ]
        }
      ]
    },
    {
      "cell_type": "code",
      "metadata": {
        "colab": {
          "base_uri": "https://localhost:8080/"
        },
        "id": "_sNpG1ySZuz6",
        "outputId": "2b0fb5df-cfc5-4925-969e-1862237b0c90"
      },
      "source": [
        "print(\"Hola\",\"Nacho\",sep=\"-\")"
      ],
      "execution_count": 9,
      "outputs": [
        {
          "output_type": "stream",
          "name": "stdout",
          "text": [
            "Hola-Nacho\n"
          ]
        }
      ]
    },
    {
      "cell_type": "code",
      "metadata": {
        "colab": {
          "base_uri": "https://localhost:8080/"
        },
        "id": "h-3JsCPWaTUI",
        "outputId": "2a8e4baa-cbc3-4acf-dfe6-cb36c0dedcf7"
      },
      "source": [
        "def imprime_cuadro():\n",
        "    print(\"****\")\n",
        "    print(\"****\")\n",
        "    print(\"****\")\n",
        "    print(\"****\")\n",
        "    # return None\n",
        "\n",
        "imprime_cuadro()"
      ],
      "execution_count": 12,
      "outputs": [
        {
          "output_type": "stream",
          "name": "stdout",
          "text": [
            "****\n",
            "****\n",
            "****\n",
            "****\n"
          ]
        }
      ]
    },
    {
      "cell_type": "markdown",
      "metadata": {
        "id": "ZS0h2R-Ra9t5"
      },
      "source": [
        "# Valor de retorno de una función\n",
        "\n",
        "Regla de oro.- Una función simpre retorna **UN SOLO VALOR**. Inclusive si ese valor es el vacío."
      ]
    },
    {
      "cell_type": "code",
      "metadata": {
        "colab": {
          "base_uri": "https://localhost:8080/"
        },
        "id": "MK4f7x-4bOLN",
        "outputId": "13cee15c-e311-47ac-de76-12e73371930e"
      },
      "source": [
        "# Invocar sumar\n",
        "res = sumar(7,8)\n",
        "print(res)\n",
        "# Invocar la función imprime_cuadro\n",
        "res = imprime_cuadro()\n",
        "print(res)"
      ],
      "execution_count": 13,
      "outputs": [
        {
          "output_type": "stream",
          "name": "stdout",
          "text": [
            "15\n",
            "****\n",
            "****\n",
            "****\n",
            "****\n",
            "None\n"
          ]
        }
      ]
    },
    {
      "cell_type": "markdown",
      "metadata": {
        "id": "EAgdZ_uUdPC3"
      },
      "source": [
        "# La palabar reservada **None** de Python\n",
        "\n",
        "Esta palabra reservada significa vacío, equivalente a la palabra reservada \"void\" del Lenguaje C++ y Java.\n",
        "\n",
        "Se usa para indicar ya sea para indicar un return vacío o que se recibe como parámetro un vacío."
      ]
    },
    {
      "cell_type": "code",
      "metadata": {
        "id": "NsfaA5JhdHLz"
      },
      "source": [
        "def multiplicar( valor , veces):\n",
        "    c = valor * veces\n",
        "    return c"
      ],
      "execution_count": 20,
      "outputs": []
    },
    {
      "cell_type": "code",
      "metadata": {
        "colab": {
          "base_uri": "https://localhost:8080/",
          "height": 269
        },
        "id": "VsIWTjaAeLHd",
        "outputId": "d6636689-2672-45d8-a32d-533edde4aa03"
      },
      "source": [
        "res = multiplicar(5,5)\n",
        "print(res)"
      ],
      "execution_count": 21,
      "outputs": [
        {
          "output_type": "error",
          "ename": "TypeError",
          "evalue": "ignored",
          "traceback": [
            "\u001b[0;31m---------------------------------------------------------------------------\u001b[0m",
            "\u001b[0;31mTypeError\u001b[0m                                 Traceback (most recent call last)",
            "\u001b[0;32m<ipython-input-21-85d39183868b>\u001b[0m in \u001b[0;36m<module>\u001b[0;34m()\u001b[0m\n\u001b[0;32m----> 1\u001b[0;31m \u001b[0mres\u001b[0m \u001b[0;34m=\u001b[0m \u001b[0mmultiplicar\u001b[0m\u001b[0;34m(\u001b[0m\u001b[0;32mNone\u001b[0m\u001b[0;34m,\u001b[0m\u001b[0;36m5\u001b[0m\u001b[0;34m)\u001b[0m\u001b[0;34m\u001b[0m\u001b[0;34m\u001b[0m\u001b[0m\n\u001b[0m\u001b[1;32m      2\u001b[0m \u001b[0mprint\u001b[0m\u001b[0;34m(\u001b[0m\u001b[0mres\u001b[0m\u001b[0;34m)\u001b[0m\u001b[0;34m\u001b[0m\u001b[0;34m\u001b[0m\u001b[0m\n",
            "\u001b[0;32m<ipython-input-20-a94390b08bcc>\u001b[0m in \u001b[0;36mmultiplicar\u001b[0;34m(valor, veces)\u001b[0m\n\u001b[1;32m      1\u001b[0m \u001b[0;32mdef\u001b[0m \u001b[0mmultiplicar\u001b[0m\u001b[0;34m(\u001b[0m \u001b[0mvalor\u001b[0m \u001b[0;34m,\u001b[0m \u001b[0mveces\u001b[0m\u001b[0;34m)\u001b[0m\u001b[0;34m:\u001b[0m\u001b[0;34m\u001b[0m\u001b[0;34m\u001b[0m\u001b[0m\n\u001b[0;32m----> 2\u001b[0;31m     \u001b[0mc\u001b[0m \u001b[0;34m=\u001b[0m \u001b[0mvalor\u001b[0m \u001b[0;34m*\u001b[0m \u001b[0mveces\u001b[0m\u001b[0;34m\u001b[0m\u001b[0;34m\u001b[0m\u001b[0m\n\u001b[0m\u001b[1;32m      3\u001b[0m     \u001b[0;32mreturn\u001b[0m \u001b[0mc\u001b[0m\u001b[0;34m\u001b[0m\u001b[0;34m\u001b[0m\u001b[0m\n",
            "\u001b[0;31mTypeError\u001b[0m: unsupported operand type(s) for *: 'NoneType' and 'int'"
          ]
        }
      ]
    },
    {
      "cell_type": "code",
      "metadata": {
        "id": "6kcqdJwAewof"
      },
      "source": [
        "def multiplicar( valor , veces):\n",
        "    if valor == None:\n",
        "        c = -1\n",
        "    else:\n",
        "        c = valor * veces\n",
        "    return c"
      ],
      "execution_count": null,
      "outputs": []
    },
    {
      "cell_type": "code",
      "metadata": {
        "id": "xwhLSMDhfAjp"
      },
      "source": [
        "res = multiplicar(None,5)\n",
        "print(res)"
      ],
      "execution_count": null,
      "outputs": []
    },
    {
      "cell_type": "markdown",
      "metadata": {
        "id": "LlnZKeLwfkEM"
      },
      "source": [
        "# Parámetros y Argumentos\n",
        "Son conceptos relacionados y su diferencia esta centrada en el momento que se emplea en una función.\n",
        "\n",
        "Es decir, en la función sumar de arriba, cuando se declara se le llama parámetro y cuando se invoca se llama argumento\n",
        "\n",
        "\n"
      ]
    },
    {
      "cell_type": "markdown",
      "metadata": {
        "id": "_ZqdiG-ffb-M"
      },
      "source": [
        "# Argumentos posicionales\n",
        "En Python es posible determinar a que parámetros están dirigidos los argumentos, según su posición.\n",
        "\n"
      ]
    },
    {
      "cell_type": "code",
      "metadata": {
        "id": "cQUc80qrgqJp"
      },
      "source": [
        "def dividir( op1, op2 ):\n",
        "    c = op1 / op2\n",
        "    return c"
      ],
      "execution_count": 23,
      "outputs": []
    },
    {
      "cell_type": "code",
      "metadata": {
        "colab": {
          "base_uri": "https://localhost:8080/"
        },
        "id": "WoQLWMW7g5Tl",
        "outputId": "9d3f7ba3-9ab2-41ef-b825-8d403b2acab2"
      },
      "source": [
        "num1 = 25\n",
        "num2 = 5\n",
        "res = dividir(num1,num2)\n",
        "print(res)\n",
        "res = dividir(num2,num1)\n",
        "print(res)"
      ],
      "execution_count": 25,
      "outputs": [
        {
          "output_type": "stream",
          "name": "stdout",
          "text": [
            "5.0\n",
            "0.2\n"
          ]
        }
      ]
    },
    {
      "cell_type": "markdown",
      "metadata": {
        "id": "R8dZUgB-hXzP"
      },
      "source": [
        "# Argumentos con palábras clave (keywords)\n",
        "\n",
        "Es la posibilidad de indicarle a la función en tiempo de ejecución a qué parametro va dirigido un argmuento de entrada.\n",
        "\n",
        "Sólo disponible en Python"
      ]
    },
    {
      "cell_type": "code",
      "metadata": {
        "colab": {
          "base_uri": "https://localhost:8080/"
        },
        "id": "nBV-5tTmhwWa",
        "outputId": "8782b06b-7cfe-47f9-ea8c-3ba93ecbea6c"
      },
      "source": [
        "res = dividir(op2=num2,op1=num1)\n",
        "print(res)"
      ],
      "execution_count": 26,
      "outputs": [
        {
          "output_type": "stream",
          "name": "stdout",
          "text": [
            "5.0\n"
          ]
        }
      ]
    },
    {
      "cell_type": "code",
      "metadata": {
        "id": "l44e1ayJiXXO"
      },
      "source": [
        "def letra_J( caracter ):\n",
        "    print(f\"   {caracter}\")\n",
        "    print(f\"   {caracter}\")\n",
        "    print(f\"   {caracter}\")\n",
        "    print(f\"   {caracter}\")\n",
        "    print(f\"{caracter}{caracter}{caracter}{caracter}\")"
      ],
      "execution_count": 36,
      "outputs": []
    },
    {
      "cell_type": "code",
      "metadata": {
        "colab": {
          "base_uri": "https://localhost:8080/"
        },
        "id": "llYcyNVPiqaI",
        "outputId": "72bbe5d4-51f0-44de-8424-12ded4a29ed6"
      },
      "source": [
        "letra_J(\"J\")"
      ],
      "execution_count": 37,
      "outputs": [
        {
          "output_type": "stream",
          "name": "stdout",
          "text": [
            "   J\n",
            "   J\n",
            "   J\n",
            "   J\n",
            "JJJJ\n"
          ]
        }
      ]
    }
  ]
}