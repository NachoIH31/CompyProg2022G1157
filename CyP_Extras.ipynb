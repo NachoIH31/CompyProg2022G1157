{
  "nbformat": 4,
  "nbformat_minor": 0,
  "metadata": {
    "colab": {
      "name": "CyP_Extras.ipynb",
      "provenance": [],
      "authorship_tag": "ABX9TyPP9HYArL9IEWEhJsLMVXla",
      "include_colab_link": true
    },
    "kernelspec": {
      "name": "python3",
      "display_name": "Python 3"
    },
    "language_info": {
      "name": "python"
    }
  },
  "cells": [
    {
      "cell_type": "markdown",
      "metadata": {
        "id": "view-in-github",
        "colab_type": "text"
      },
      "source": [
        "<a href=\"https://colab.research.google.com/github/NachoIH31/CompyProg2022G1157/blob/main/CyP_Extras.ipynb\" target=\"_parent\"><img src=\"https://colab.research.google.com/assets/colab-badge.svg\" alt=\"Open In Colab\"/></a>"
      ]
    },
    {
      "cell_type": "code",
      "execution_count": 31,
      "metadata": {
        "id": "p0M0BN_jDWOq"
      },
      "outputs": [],
      "source": [
        "habitaciones = []\n",
        "\n",
        "hx = {\"numero\": 0,\n",
        "      \"tipo\":\"sencilla\",\n",
        "      \"costo\": 0.0,\n",
        "      \"dias\":0,\n",
        "      \"huespedes\" :[],\n",
        "      \"comidas\" : 0\n",
        "      }\n",
        "\n",
        "def menu():\n",
        "    print(\"1.-) Check in\")\n",
        "    print(\"2.-) Registro alimentos\")\n",
        "    print(\"3.-) Check out\")\n",
        "    print(\"4.-) Reporte de ocupacion\")\n",
        "    print(\"0.-) Salir del sistema\")\n",
        "    \n",
        "def menu_habitacion( hx ):\n",
        "    opcion = 1\n",
        "    while opcion != 0: # se puede mejorar\n",
        "        print(\"1) Hab. sencilla\")\n",
        "        print(\"2) Hab. doble\")\n",
        "        print(\"3) Junior suite\")\n",
        "        opcion = int(input(\"¿Tipo de habitación?: \"))   \n",
        "        if opcion == 1:\n",
        "            hx['costo'] = 800.0\n",
        "            hx['tipo']=\"sencilla\"\n",
        "        elif opcion == 2:\n",
        "            hx['costo'] = 1200.0\n",
        "            hx['tipo']=\"doble\"     \n",
        "        elif opcion == 3:\n",
        "            hx['costo'] = 1800.0\n",
        "            hx['tipo']=\"juniorsuite\"  \n",
        "        else:\n",
        "            print(\"Opcion no valida\")  \n",
        "        # imprimir en pant. habitaciones ocupadas\n",
        "        hx['numero'] = int(input(\"Número de habitación:\"))\n",
        "        return hx       \n",
        "\n",
        "# regresa el indice de dicha habitacion ocupada, -1 si esa habitacion no esta ocupada\n",
        "def index_habitacion( num_habitacion ):\n",
        "    hab = -1\n",
        "    for i in range(len( habitaciones )):\n",
        "        if habitaciones[i]['numero'] == num_habitacion:\n",
        "            hab = i\n",
        "            break\n",
        "    return hab"
      ]
    },
    {
      "cell_type": "code",
      "source": [
        "opcion = 1\n",
        "while opcion != 0:\n",
        "    menu()\n",
        "    opcion = int(input(\"Introduce tu elección: \"))\n",
        "    print(f\"Elegiste {opcion} ...\")\n",
        "    # aqui va algo mas del problema\n",
        "    if opcion == 1:\n",
        "        print(\"----- Realizando Check-In -----\")\n",
        "        # Tipo de hab.\n",
        "        hab = menu_habitacion( hx.copy() ) # copia física\n",
        "        # Total de días\n",
        "        hab[\"dias\"]= int(input(\"¿ Cuantos días ?: \"))\n",
        "        # capturar , nombre y apellido paterno 1..3.\n",
        "        hab['huespedes']=[]\n",
        "        if hab['tipo'] == \"sencilla\":\n",
        "            huesped = {}\n",
        "            huesped['nombre'] = input(\"nombr del huesped:\")\n",
        "            huesped['paterno'] = input(\"Apellido del huesped:\")\n",
        "            hab['huespedes'].append(huesped)\n",
        "        elif hab['tipo'] == \"doble\":\n",
        "            for numero in range( 2 ):\n",
        "                huesped = {}\n",
        "                huesped['nombre'] = input(\"nombr del huesped:\")\n",
        "                huesped['paterno'] = input(\"Apellido del huesped:\")\n",
        "                hab['huespedes'].append(huesped)\n",
        "        elif hab['tipo'] == \"juniorsuite\":\n",
        "            for numero in range( 3 ):\n",
        "                huesped = {}\n",
        "                huesped['nombre'] = input(\"nombr del huesped:\")\n",
        "                huesped['paterno'] = input(\"Apellido del huesped:\")\n",
        "                hab['huespedes'].append(huesped)        \n",
        "        # registrar en una variable global\n",
        "        habitaciones.append(hab)\n",
        "        print(habitaciones)\n",
        "    elif opcion == 2:\n",
        "        print(\"----- Realizando registro de alimentos ----\")\n",
        "        num_hab = int(input(\"¿Cuál es su número de habitación?:\"))\n",
        "        idx = index_habitacion(num_hab)\n",
        "        if idx != -1 :\n",
        "            habitaciones[idx]['comidas'] = \\\n",
        "                         habitaciones[idx]['comidas'] + int(input(\"Cantidad:\"))\n",
        "        print(habitaciones)\n",
        "\n",
        "    elif opcion == 3:\n",
        "        print(\"----- Realizando check-out ------\")\n",
        "        num_hab = int(input(\"¿Cuál es su número de habitación?:\"))\n",
        "        idx = index_habitacion(num_hab)\n",
        "        if idx != -1 :\n",
        "            if habitaciones[idx]['dias'] == 4:\n",
        "                total = 3 * habitaciones[idx]['costo'] + ( habitaciones[idx]['costo'] *0.75 )\n",
        "            elif habitaciones[idx]['dias'] == 5:\n",
        "                total = 4 * habitaciones[idx]['costo'] \n",
        "            else:\n",
        "                total = habitaciones[idx]['dias'] * habitaciones[idx]['costo'] \n",
        "            total += habitaciones[idx]['comidas'] * 150.0\n",
        "            print(f\"Su total a pagar es de ${ total } pesos mexicanos\")\n",
        "            # esperar el pago\n",
        "            #habitaciones.remove(idx)\n",
        "            del habitaciones[idx]\n",
        "    elif opcion == 4:\n",
        "        for hab in habitaciones:\n",
        "            print(f\" #={ hab['numero'] } \\n\\t dias={hab['dias']} \")\n",
        "\n",
        "    elif opcion == 0:\n",
        "        print(\"--- Adios  ----\")\n",
        "\n",
        "    else:\n",
        "        print(\"---- OPCIÓN NO VÁLIDA ----\")"
      ],
      "metadata": {
        "colab": {
          "base_uri": "https://localhost:8080/"
        },
        "id": "qDWPb4bWD_Lr",
        "outputId": "efffb2ef-7227-4c72-ac92-5285c290179d"
      },
      "execution_count": 33,
      "outputs": [
        {
          "output_type": "stream",
          "name": "stdout",
          "text": [
            "1.-) Check in\n",
            "2.-) Registro alimentos\n",
            "3.-) Check out\n",
            "4.-) Reporte de ocupacion\n",
            "0.-) Salir del sistema\n",
            "Introduce tu elección: 1\n",
            "Elegiste 1 ...\n",
            "----- Realizando Check-In -----\n",
            "1) Hab. sencilla\n",
            "2) Hab. doble\n",
            "3) Junior suite\n",
            "¿Tipo de habitación?: 1\n",
            "Número de habitación:101\n",
            "¿ Cuantos días ?: 1\n",
            "nombr del huesped:dd\n",
            "Apellido del huesped:dd\n",
            "[{'numero': 304, 'tipo': 'juniorsuite', 'costo': 1800.0, 'dias': 2, 'huespedes': [{'nombre': 'jj', 'paterno': 'jj'}, {'nombre': 'kk', 'paterno': 'kk'}, {'nombre': 'll', 'paterno': 'll'}], 'comidas': 4}, {'numero': 101, 'tipo': 'sencilla', 'costo': 800.0, 'dias': 1, 'huespedes': [{'nombre': 'jj', 'paterno': 'jj'}], 'comidas': 0}, {'numero': 102, 'tipo': 'sencilla', 'costo': 800.0, 'dias': 2, 'huespedes': [{'nombre': 'tt', 'paterno': 'tt'}], 'comidas': 3}, {'numero': 103, 'tipo': 'sencilla', 'costo': 800.0, 'dias': 2, 'huespedes': [{'nombre': 'dd', 'paterno': 'dd'}], 'comidas': 0}, {'numero': 101, 'tipo': 'sencilla', 'costo': 800.0, 'dias': 1, 'huespedes': [{'nombre': 'dd', 'paterno': 'dd'}], 'comidas': 0}]\n",
            "1.-) Check in\n",
            "2.-) Registro alimentos\n",
            "3.-) Check out\n",
            "4.-) Reporte de ocupacion\n",
            "0.-) Salir del sistema\n",
            "Introduce tu elección: 2\n",
            "Elegiste 2 ...\n",
            "----- Realizando registro de alimentos ----\n",
            "¿Cuál es su número de habitación?:101\n",
            "Cantidad:0\n",
            "[{'numero': 304, 'tipo': 'juniorsuite', 'costo': 1800.0, 'dias': 2, 'huespedes': [{'nombre': 'jj', 'paterno': 'jj'}, {'nombre': 'kk', 'paterno': 'kk'}, {'nombre': 'll', 'paterno': 'll'}], 'comidas': 4}, {'numero': 101, 'tipo': 'sencilla', 'costo': 800.0, 'dias': 1, 'huespedes': [{'nombre': 'jj', 'paterno': 'jj'}], 'comidas': 0}, {'numero': 102, 'tipo': 'sencilla', 'costo': 800.0, 'dias': 2, 'huespedes': [{'nombre': 'tt', 'paterno': 'tt'}], 'comidas': 3}, {'numero': 103, 'tipo': 'sencilla', 'costo': 800.0, 'dias': 2, 'huespedes': [{'nombre': 'dd', 'paterno': 'dd'}], 'comidas': 0}, {'numero': 101, 'tipo': 'sencilla', 'costo': 800.0, 'dias': 1, 'huespedes': [{'nombre': 'dd', 'paterno': 'dd'}], 'comidas': 0}]\n",
            "1.-) Check in\n",
            "2.-) Registro alimentos\n",
            "3.-) Check out\n",
            "4.-) Reporte de ocupacion\n",
            "0.-) Salir del sistema\n",
            "Introduce tu elección: 3\n",
            "Elegiste 3 ...\n",
            "----- Realizando check-out ------\n",
            "¿Cuál es su número de habitación?:101\n",
            "Su total a pagar es de $800.0 pesos mexicanos\n",
            "1.-) Check in\n",
            "2.-) Registro alimentos\n",
            "3.-) Check out\n",
            "4.-) Reporte de ocupacion\n",
            "0.-) Salir del sistema\n",
            "Introduce tu elección: 0\n",
            "Elegiste 0 ...\n",
            "--- Adios  ----\n"
          ]
        }
      ]
    },
    {
      "cell_type": "code",
      "source": [
        "habitaciones = [{'numero': 304, 'tipo': 'juniorsuite', 'costo': 1800.0, 'dias': 2, 'huespedes': [{'nombre': 'jj', 'paterno': 'jj'}, {'nombre': 'kk', 'paterno': 'kk'}, {'nombre': 'll', 'paterno': 'll'}], 'comidas': 2}, {'numero': 101, 'tipo': 'sencilla', 'costo': 800.0, 'dias': 1, 'huespedes': [{'nombre': 'jj', 'paterno': 'jj'}], 'comidas': 0}, {'numero': 102, 'tipo': 'sencilla', 'costo': 800.0, 'dias': 2, 'huespedes': [{'nombre': 'tt', 'paterno': 'tt'}], 'comidas': 0}, {'numero': 103, 'tipo': 'sencilla', 'costo': 800.0, 'dias': 2, 'huespedes': [{'nombre': 'dd', 'paterno': 'dd'}], 'comidas': 0}]\n",
        "print(habitaciones)\n",
        "# habitaciojn 304 agrgarle 2 comidas\n",
        "habitaciones[0]['comidas'] =  habitaciones[0]['comidas'] + int(input(\"Cantidad:\"))\n",
        "print(habitaciones)\n",
        "\n",
        "# agrgar 2 comidas a la hab 102\n",
        "habitaciones[2]['comidas'] =  habitaciones[2]['comidas'] + int(input(\"Cantidad:\"))\n",
        "print(habitaciones)"
      ],
      "metadata": {
        "colab": {
          "base_uri": "https://localhost:8080/"
        },
        "id": "_GaEzve2V7um",
        "outputId": "40986aba-97cb-42a8-951f-72f7f6da0e80"
      },
      "execution_count": 32,
      "outputs": [
        {
          "output_type": "stream",
          "name": "stdout",
          "text": [
            "[{'numero': 304, 'tipo': 'juniorsuite', 'costo': 1800.0, 'dias': 2, 'huespedes': [{'nombre': 'jj', 'paterno': 'jj'}, {'nombre': 'kk', 'paterno': 'kk'}, {'nombre': 'll', 'paterno': 'll'}], 'comidas': 2}, {'numero': 101, 'tipo': 'sencilla', 'costo': 800.0, 'dias': 1, 'huespedes': [{'nombre': 'jj', 'paterno': 'jj'}], 'comidas': 0}, {'numero': 102, 'tipo': 'sencilla', 'costo': 800.0, 'dias': 2, 'huespedes': [{'nombre': 'tt', 'paterno': 'tt'}], 'comidas': 0}, {'numero': 103, 'tipo': 'sencilla', 'costo': 800.0, 'dias': 2, 'huespedes': [{'nombre': 'dd', 'paterno': 'dd'}], 'comidas': 0}]\n",
            "Cantidad:2\n",
            "[{'numero': 304, 'tipo': 'juniorsuite', 'costo': 1800.0, 'dias': 2, 'huespedes': [{'nombre': 'jj', 'paterno': 'jj'}, {'nombre': 'kk', 'paterno': 'kk'}, {'nombre': 'll', 'paterno': 'll'}], 'comidas': 4}, {'numero': 101, 'tipo': 'sencilla', 'costo': 800.0, 'dias': 1, 'huespedes': [{'nombre': 'jj', 'paterno': 'jj'}], 'comidas': 0}, {'numero': 102, 'tipo': 'sencilla', 'costo': 800.0, 'dias': 2, 'huespedes': [{'nombre': 'tt', 'paterno': 'tt'}], 'comidas': 0}, {'numero': 103, 'tipo': 'sencilla', 'costo': 800.0, 'dias': 2, 'huespedes': [{'nombre': 'dd', 'paterno': 'dd'}], 'comidas': 0}]\n",
            "Cantidad:3\n",
            "[{'numero': 304, 'tipo': 'juniorsuite', 'costo': 1800.0, 'dias': 2, 'huespedes': [{'nombre': 'jj', 'paterno': 'jj'}, {'nombre': 'kk', 'paterno': 'kk'}, {'nombre': 'll', 'paterno': 'll'}], 'comidas': 4}, {'numero': 101, 'tipo': 'sencilla', 'costo': 800.0, 'dias': 1, 'huespedes': [{'nombre': 'jj', 'paterno': 'jj'}], 'comidas': 0}, {'numero': 102, 'tipo': 'sencilla', 'costo': 800.0, 'dias': 2, 'huespedes': [{'nombre': 'tt', 'paterno': 'tt'}], 'comidas': 3}, {'numero': 103, 'tipo': 'sencilla', 'costo': 800.0, 'dias': 2, 'huespedes': [{'nombre': 'dd', 'paterno': 'dd'}], 'comidas': 0}]\n"
          ]
        }
      ]
    },
    {
      "cell_type": "code",
      "source": [
        "habitaciones = []\n",
        "\n",
        "hx = {\"numero\": 101,\n",
        "      \"tipo\":\"sencilla\",\n",
        "      \"costo\": 800.0,\n",
        "      \"dias\": 3,\n",
        "      \"huespedes\": [{\"nombre\":\"José\", \"paterno\":\"Pérez\"}],\n",
        "      \"comidas\": 0\n",
        "      }\n",
        "habitaciones.append( hx )\n",
        "print(habitaciones)\n",
        "\n",
        "hx2 = {\"numero\": 202,\n",
        "      \"tipo\":\"doble\",\n",
        "      \"costo\": 1200.0,\n",
        "      \"dias\": 4,\n",
        "      \"huespedes\": [{\"nombre\":\"María\", \"paterno\":\"Pérez\"}, \n",
        "                    {\"nombre\":\"Juana\", \"paterno\":\"Pérez\"}],\n",
        "      \"comidas\": 0\n",
        "      }\n",
        "habitaciones.append( hx2 )\n",
        "print(habitaciones)"
      ],
      "metadata": {
        "colab": {
          "base_uri": "https://localhost:8080/"
        },
        "id": "TqYQcsU7I_1j",
        "outputId": "8d36eba7-98c5-4936-a721-17b4736b9806"
      },
      "execution_count": null,
      "outputs": [
        {
          "output_type": "stream",
          "name": "stdout",
          "text": [
            "[{'numero': 101, 'tipo': 'sencilla', 'costo': 800.0, 'dias': 3, 'huespedes': [{'nombre': 'José', 'paterno': 'Pérez'}], 'comidas': 0}]\n",
            "[{'numero': 101, 'tipo': 'sencilla', 'costo': 800.0, 'dias': 3, 'huespedes': [{'nombre': 'José', 'paterno': 'Pérez'}], 'comidas': 0}, {'numero': 202, 'tipo': 'doble', 'costo': 1200.0, 'dias': 4, 'huespedes': [{'nombre': 'María', 'paterno': 'Pérez'}, {'nombre': 'Juana', 'paterno': 'Pérez'}], 'comidas': 0}]\n"
          ]
        }
      ]
    },
    {
      "cell_type": "markdown",
      "source": [
        "(1):_ Chek-in de huespedes\n",
        "\n",
        "(2).- Regsitrar comidad/cenas de huespedes\n",
        "\n",
        "(3).- Hacer check-out"
      ],
      "metadata": {
        "id": "WvZO5dc4ENkj"
      }
    }
  ]
}