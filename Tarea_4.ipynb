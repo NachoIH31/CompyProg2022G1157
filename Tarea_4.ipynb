{
  "nbformat": 4,
  "nbformat_minor": 0,
  "metadata": {
    "colab": {
      "name": "Tarea 4.ipynb",
      "provenance": [],
      "authorship_tag": "ABX9TyPJchXTqZXY3RXFg6VHppsO",
      "include_colab_link": true
    },
    "kernelspec": {
      "name": "python3",
      "display_name": "Python 3"
    },
    "language_info": {
      "name": "python"
    }
  },
  "cells": [
    {
      "cell_type": "markdown",
      "metadata": {
        "id": "view-in-github",
        "colab_type": "text"
      },
      "source": [
        "<a href=\"https://colab.research.google.com/github/NachoIH31/CompyProg2022G1157/blob/main/Tarea_4.ipynb\" target=\"_parent\"><img src=\"https://colab.research.google.com/assets/colab-badge.svg\" alt=\"Open In Colab\"/></a>"
      ]
    },
    {
      "cell_type": "code",
      "metadata": {
        "colab": {
          "base_uri": "https://localhost:8080/"
        },
        "id": "8egtVOjcmwTe",
        "outputId": "2a96af6b-5a41-41f1-d8a7-2b36aee2fa36"
      },
      "source": [
        "print(\"\"\"\n",
        "JJJJJJJJJ   OOOOO    SSSSSS   EEEEEEE \n",
        "    JJ     OO   OO  SS        EE\n",
        "    JJ     OO   OO   SSSSSS   EEEEE\n",
        " JJ JJ     OO   OO        SS  EE\n",
        " JJJJJ      OOOOO    SSSSSS   EEEEEEE \"\"\") "
      ],
      "execution_count": 11,
      "outputs": [
        {
          "output_type": "stream",
          "name": "stdout",
          "text": [
            "\n",
            "JJJJJJJJJ   OOOOO    SSSSSS   EEEEEEE \n",
            "    JJ     OO   OO  SS        EE\n",
            "    JJ     OO   OO   SSSSSS   EEEEE\n",
            " JJ JJ     OO   OO        SS  EE\n",
            " JJJJJ      OOOOO    SSSSSS   EEEEEEE \n"
          ]
        }
      ]
    },
    {
      "cell_type": "code",
      "metadata": {
        "colab": {
          "base_uri": "https://localhost:8080/"
        },
        "id": "QZPM5MCfsVOL",
        "outputId": "0b34f3bb-80b6-4da4-c60c-2af91b801b8e"
      },
      "source": [
        "print(\"\\n\\tJJJJJJJJJ   OOOOO    SSSSSS   EEEEEEE \\n\\t    JJ     OO   OO  SS        EE \\n\\t    JJ     OO   OO   SSSSSS   EEEEE \\n\\t JJ JJ     OO   OO        SS  EE \\n\\t JJJJJ      OOOOO    SSSSSS   EEEEEEE\")"
      ],
      "execution_count": 21,
      "outputs": [
        {
          "output_type": "stream",
          "name": "stdout",
          "text": [
            "\n",
            "\tJJJJJJJJJ   OOOOO    SSSSSS   EEEEEEE \n",
            "\t    JJ     OO   OO  SS        EE \n",
            "\t    JJ     OO   OO   SSSSSS   EEEEE \n",
            "\t JJ JJ     OO   OO        SS  EE \n",
            "\t JJJJJ      OOOOO    SSSSSS   EEEEEEE\n"
          ]
        }
      ]
    }
  ]
}