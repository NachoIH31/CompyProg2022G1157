{
  "nbformat": 4,
  "nbformat_minor": 0,
  "metadata": {
    "colab": {
      "name": "FundamentosCyP1157F12/10/21.ipynb",
      "provenance": [],
      "authorship_tag": "ABX9TyPjDnSYZABwlK8aO9RIIn6r",
      "include_colab_link": true
    },
    "kernelspec": {
      "name": "python3",
      "display_name": "Python 3"
    },
    "language_info": {
      "name": "python"
    }
  },
  "cells": [
    {
      "cell_type": "markdown",
      "metadata": {
        "id": "view-in-github",
        "colab_type": "text"
      },
      "source": [
        "<a href=\"https://colab.research.google.com/github/NachoIH31/CompyProg2022G1157/blob/main/FundamentosCyP1157F12_10_21.ipynb\" target=\"_parent\"><img src=\"https://colab.research.google.com/assets/colab-badge.svg\" alt=\"Open In Colab\"/></a>"
      ]
    },
    {
      "cell_type": "code",
      "metadata": {
        "colab": {
          "base_uri": "https://localhost:8080/"
        },
        "id": "PYoMrffyWAAu",
        "outputId": "866beb1a-4921-4a22-8fa0-651c2a9de1f7"
      },
      "source": [
        "nombre = 'José' # Tipo de dato String (cadena de caracteres)\n",
        "\n",
        "print( nombre)"
      ],
      "execution_count": 1,
      "outputs": [
        {
          "output_type": "stream",
          "name": "stdout",
          "text": [
            "José\n"
          ]
        }
      ]
    },
    {
      "cell_type": "markdown",
      "metadata": {
        "id": "reWPpz1YXcGU"
      },
      "source": [
        "#Tipos de datos en Python\n",
        "\n",
        "### Tipos simples\n",
        "- str --> String cadena de caracteres\n",
        "- int --> Numeros enteros\n",
        "- float --> Nuemeros con notación de punto flotante\n",
        "- complex --> Numeros completos\n",
        "- bool --> Booleano ( True o False)\n",
        "- byte --> 8 bits\n",
        "\n",
        "### Tipos de datos estructurados (compuestos)\n",
        "\n",
        "- list --> Listas (Arreglos en otros leng)\n",
        "- tuple --> Listas no mutables\n",
        "- dict --> Diccionarios\n",
        "- set y frozenset --> Conjuntos\n"
      ]
    },
    {
      "cell_type": "code",
      "metadata": {
        "colab": {
          "base_uri": "https://localhost:8080/"
        },
        "id": "mMGjSoiDaXfL",
        "outputId": "729da37e-8e3c-4dff-f572-5309923b9ed7"
      },
      "source": [
        "import sys\n",
        "\n",
        "edad = 19\n",
        "print( \"Tu edad es:\" ,edad ) # al final de una línea de código\n",
        "# este es un comentario de linea simple\n",
        "\n",
        "\"\"\"\n",
        "Comentario de múltiple línea\n",
        "En lenguaje C, C++ y Java el comentario de múltiple línea es con:\n",
        "\n",
        "/* .....  */\n",
        "\n",
        "En lenguaje C, C++ y Java el comentario de múltiple línea es con\n",
        "\n",
        "//\n",
        "\n",
        "Aquí puedes explicar en prosa el segmento de un código para futura\n",
        "\n",
        "\"\"\"\n",
        "# tipos de dato numerico int y float\n",
        "\n",
        "print (sys.getsizeof(edad) )\n",
        "# el tipo de dato INT utiliza diferente cantiad de bits segun el \n",
        "# leng de prog. por ejemplo en C utiliza 16 bits.\n",
        "\n",
        "edad = edad + 1\n",
        "print( edad)\n",
        "\n",
        "estatura = 1.56\n",
        "print( estatura )\n",
        "print( sys.getsizeof(estatura) )\n",
        "estatura = estatura + 0.1\n",
        "print( estatura )\n",
        "print( round(estatura,2) )\n",
        "\n",
        "edad += 1 # edad = edad + 1\n",
        "print( \"Tu edad es:\" ,edad )\n",
        "\n",
        "edad -= 1 # edad = edad - 1\n",
        "print( \"Tu edad es:\" ,edad )\n",
        "\n",
        "edad += 1 # vuelve a 21\n",
        "edad /= 2 # edad = edad / 2\n",
        "print( \"La mitad de tu edad es:\" ,edad )\n",
        "\n",
        "\n",
        "edad = 21\n",
        "# volver a calcular la mitad de la edad pero sólo dejar\n",
        "# parte entera\n",
        "edad = edad // 2\n",
        "print( \"La mitad de tu edad es:\",edad )\n",
        "\n",
        "# En la mayoría de los leng no permiten operaciones entre\n",
        "# diferentes tipos de datos, en Python no es el caso\n",
        "\n",
        "numero = edad / 2.0\n",
        "print( numero )\n",
        "\n",
        "numero = numero * 3 # (*=) para simplificar la operación\n",
        "print( numero )\n",
        "\n",
        "numero = 5.0\n",
        "numero = numero ** 2\n",
        "print( numero )\n",
        "\n"
      ],
      "execution_count": 25,
      "outputs": [
        {
          "output_type": "stream",
          "name": "stdout",
          "text": [
            "Tu edad es: 19\n",
            "28\n",
            "20\n",
            "1.56\n",
            "24\n",
            "1.6600000000000001\n",
            "1.66\n",
            "Tu edad es: 21\n",
            "Tu edad es: 20\n",
            "La mitad de tu edad es: 10.5\n",
            "La mitad de tu edad es: 10\n",
            "5.0\n",
            "15.0\n",
            "25.0\n",
            "10.5\n"
          ]
        }
      ]
    },
    {
      "cell_type": "markdown",
      "metadata": {
        "id": "t-EUCZs_jVuS"
      },
      "source": [
        "# Tarea\n",
        "Hacer un resumen de mínimo 1 cuartilla de los orígenes del Lenuguaje Python.\n",
        "\n",
        "- ¿Por qué de su creación?\n",
        "- Características principales.\n",
        "- Diferencias con otros leng.\n",
        "\n",
        "Forma de entrega: A mano en un cuadern, sacarle foto (Scaner) y subir la foto."
      ]
    },
    {
      "cell_type": "code",
      "metadata": {
        "colab": {
          "base_uri": "https://localhost:8080/"
        },
        "id": "2CZQFwD1lujz",
        "outputId": "a387f665-9006-412d-ce51-45770499e240"
      },
      "source": [
        "# Operador módulo\n",
        "numero = 21\n",
        "print( numero / 2)\n",
        "print( numero // 2)\n",
        "\n",
        "# El operador módulo da como resultado el residuo de una división entera\n",
        "print( numero % 2)\n",
        "\n",
        "numero = 24\n",
        "print(\"residuo de 24 / 5:\", numero % 5)\n",
        "\n",
        "# operadores relacionales (lógicos)\n",
        "print(\"24 es par? =\",numero % 2 == 0)\n",
        "\n",
        "# diferencia\n",
        "print(\"24 es diferente de 23=\" ,numero != 23 )\n",
        "print( \"24 es mayor que 23=\",numero > 23 )\n",
        "print( \"24 es menor que 23=\",numero < 23 )\n",
        "\n",
        "print( \"24 es mayor o igual que 24=\",numero >= 24 )\n",
        "print( \"24 es menor o igual que=\",numero <= 23 )\n",
        "\n",
        "print(\"El tipo de dato de la variable numero es:\", type(numero) )\n",
        "print(\"El tipo de dato de la variable numero / 2.0 es:\", type(numero/2.0) )\n"
      ],
      "execution_count": 49,
      "outputs": [
        {
          "output_type": "stream",
          "name": "stdout",
          "text": [
            "10.5\n",
            "10\n",
            "1\n",
            "residuo de 24 / 5: 4\n",
            "24 es par? = True\n",
            "24 es diferente de 23= True\n",
            "24 es mayor que 23= True\n",
            "24 es menor que 23= False\n",
            "24 es mayor o igual que 24= True\n",
            "24 es menor o igual que= False\n",
            "El tipo de dato de la variable numero es: <class 'int'>\n",
            "El tipo de dato de la variable numero / 2.0 es: <class 'float'>\n"
          ]
        }
      ]
    },
    {
      "cell_type": "markdown",
      "metadata": {
        "id": "gGFimgNWpg1v"
      },
      "source": [
        "# Tipo de dato String (str) en Python\n",
        "\n",
        "- Se maneja como un arreglo (tipo de datocompuesto)\n",
        "- Se puede acceder a los elementos de el Sting por medio del índice del caracter.\n",
        "- Mutable\n",
        "- Tiene métodos útiles (potentes)\n",
        "- Slicing"
      ]
    },
    {
      "cell_type": "code",
      "metadata": {
        "colab": {
          "base_uri": "https://localhost:8080/"
        },
        "id": "BZm04dLQqE5f",
        "outputId": "86a985b2-fc79-4c37-b7f2-320de6a96c2d"
      },
      "source": [
        "nombre = 'José'\n",
        "carrera = \"Ingeniería en computación\"\n",
        "frase = \"\"\" El conocimiento\n",
        "me persigue,...\n",
        "pero\n",
        "yo soy más rápido\n",
        "\"\"\"\n",
        "print( nombre )\n",
        "print( carrera )\n",
        "print( frase )\n",
        "\n",
        "# La función type de Python te devuelve el tipo de dato de una variable ( o e)\n",
        "print( type(nombre) )\n",
        "\n",
        "paterno = str( \"Pérez\" )\n",
        "print( paterno )"
      ],
      "execution_count": 50,
      "outputs": [
        {
          "output_type": "stream",
          "name": "stdout",
          "text": [
            "José\n",
            "Ingeniería en computación\n",
            " El conocimiento\n",
            "me persigue,...\n",
            "pero\n",
            "yo soy más rápido\n",
            "\n",
            "<class 'str'>\n",
            "Pérez\n"
          ]
        }
      ]
    }
  ]
}