{
  "nbformat": 4,
  "nbformat_minor": 0,
  "metadata": {
    "colab": {
      "name": "Fundamentos2_CyP_1157_F09/11/21.ipynb",
      "provenance": [],
      "authorship_tag": "ABX9TyNVRwLc0i0Yj4APSrQbMRgE",
      "include_colab_link": true
    },
    "kernelspec": {
      "name": "python3",
      "display_name": "Python 3"
    },
    "language_info": {
      "name": "python"
    }
  },
  "cells": [
    {
      "cell_type": "markdown",
      "metadata": {
        "id": "view-in-github",
        "colab_type": "text"
      },
      "source": [
        "<a href=\"https://colab.research.google.com/github/NachoIH31/CompyProg2022G1157/blob/main/Fundamentos2_CyP_1157_F09_11_21.ipynb\" target=\"_parent\"><img src=\"https://colab.research.google.com/assets/colab-badge.svg\" alt=\"Open In Colab\"/></a>"
      ]
    },
    {
      "cell_type": "markdown",
      "metadata": {
        "id": "k4Azz5-dFe-Q"
      },
      "source": [
        "# Tipos de dato estructurado de Python\n",
        "\n",
        "1. Listas\n",
        "2. Tuplas\n",
        "3. Diccionarios\n",
        "4. conjuntos(opcional)"
      ]
    },
    {
      "cell_type": "markdown",
      "metadata": {
        "id": "jrW4PKSfFssu"
      },
      "source": [
        "# Listas\n",
        "\n",
        "- Tipo de dato que agrupa variables o valores.\n",
        "- estructura secuencial (indexados empezando por 0 )\n",
        "- Se declara de dos formas#\n",
        "   - usando [ ]\n",
        "   - usando list()\n",
        "   - usando un generador\n",
        "- Puede obtener tipos de datp diversos ( En otros lenguajes de programación eso no es posible de forma directa)\n",
        "- Los elementos interno se seleccionan con [ ]\n",
        "- Soporta slicing\n",
        "- SON MUTABLES\n",
        "- GENERADORES [var for x in range(10) ]\n",
        "- Al ser una clase contiene muchos métodos útiles"
      ]
    },
    {
      "cell_type": "code",
      "metadata": {
        "colab": {
          "base_uri": "https://localhost:8080/"
        },
        "id": "AJ2BcLHGGerj",
        "outputId": "1611598c-c7e2-4538-8b1a-a6d96e4bf2d6"
      },
      "source": [
        "numeros = [10, 5,2, 3, 1]\n",
        "print(numeros)\n",
        "\n",
        "numeros2 = list()\n",
        "numeros2.append(10)\n",
        "numeros2.append(5)\n",
        "numeros2.append(2)\n",
        "numeros2.append(3)\n",
        "numeros2.append(1)\n",
        "print(numeros2)\n",
        "numeros[2] = 20\n",
        "numeros[4] = 33\n",
        "numeros[-1] = 33\n",
        "print(numeros)\n",
        "numeros.append(88)\n",
        "print(numeros)"
      ],
      "execution_count": null,
      "outputs": [
        {
          "output_type": "stream",
          "name": "stdout",
          "text": [
            "[10, 5, 2, 3, 1]\n",
            "[10, 5, 2, 3, 1]\n",
            "[10, 5, 20, 3, 33]\n",
            "[10, 5, 20, 3, 33, 88]\n"
          ]
        }
      ]
    },
    {
      "cell_type": "code",
      "metadata": {
        "colab": {
          "base_uri": "https://localhost:8080/"
        },
        "id": "yUDJyFtVId_o",
        "outputId": "7fa99fca-4848-4dd5-9a6c-ecea034c1ef9"
      },
      "source": [
        "# Tipos diversos\n",
        "\n",
        "cosas = [12, 2, True , \"José\" , 1.57 , [\"pera\", \"kiwi\",\"uva\"] ]\n",
        "print(cosas)\n",
        "print(cosas[1])\n",
        "print(cosas[4])\n",
        "print(cosas[5])\n",
        "print(cosas[5][1])\n",
        "print(cosas[3][1:3])\n",
        "cosas[3] = cosas[3].upper()\n",
        "print(cosas)\n"
      ],
      "execution_count": null,
      "outputs": [
        {
          "output_type": "stream",
          "name": "stdout",
          "text": [
            "[12, 2, True, 'José', 1.57, ['pera', 'kiwi', 'uva']]\n",
            "2\n",
            "1.57\n",
            "['pera', 'kiwi', 'uva']\n",
            "kiwi\n",
            "os\n",
            "[12, 2, True, 'JOSÉ', 1.57, ['pera', 'kiwi', 'uva']]\n"
          ]
        }
      ]
    },
    {
      "cell_type": "code",
      "metadata": {
        "colab": {
          "base_uri": "https://localhost:8080/"
        },
        "id": "wanu7f98L3Wq",
        "outputId": "96d4d6eb-df21-401b-ca44-03f2f7751662"
      },
      "source": [
        "numeros = [1,2,3,4,5,6,7,8,9,10,11]\n",
        "print(numeros)\n",
        "# Slicing\n",
        "# 1.- 4 al 8??\n",
        "print(numeros[3:8])\n",
        "#2.- [9,10]\n",
        "print(numeros[8:10])\n",
        "print(numeros[-3:-1])\n",
        "# 3.- Imprimr la lista en orden inverso\n",
        "print(numeros[::-1])"
      ],
      "execution_count": 3,
      "outputs": [
        {
          "output_type": "stream",
          "name": "stdout",
          "text": [
            "[1, 2, 3, 4, 5, 6, 7, 8, 9, 10, 11]\n",
            "[4, 5, 6, 7, 8]\n",
            "[9, 10]\n",
            "[9, 10]\n",
            "[11, 10, 9, 8, 7, 6, 5, 4, 3, 2, 1]\n"
          ]
        }
      ]
    },
    {
      "cell_type": "code",
      "metadata": {
        "colab": {
          "base_uri": "https://localhost:8080/"
        },
        "id": "nnvLLoIFPo6A",
        "outputId": "d581d0f0-69ce-40b0-aa23-2aa664fa42ab"
      },
      "source": [
        "# Crear una lista con un generador\n",
        "numeros = [ x*3 for x in range(101) ]\n",
        "print(numeros)"
      ],
      "execution_count": 9,
      "outputs": [
        {
          "output_type": "stream",
          "name": "stdout",
          "text": [
            "[0, 3, 6, 9, 12, 15, 18, 21, 24, 27, 30, 33, 36, 39, 42, 45, 48, 51, 54, 57, 60, 63, 66, 69, 72, 75, 78, 81, 84, 87, 90, 93, 96, 99, 102, 105, 108, 111, 114, 117, 120, 123, 126, 129, 132, 135, 138, 141, 144, 147, 150, 153, 156, 159, 162, 165, 168, 171, 174, 177, 180, 183, 186, 189, 192, 195, 198, 201, 204, 207, 210, 213, 216, 219, 222, 225, 228, 231, 234, 237, 240, 243, 246, 249, 252, 255, 258, 261, 264, 267, 270, 273, 276, 279, 282, 285, 288, 291, 294, 297, 300]\n"
          ]
        }
      ]
    },
    {
      "cell_type": "markdown",
      "metadata": {
        "id": "uXr-Bd8jQYss"
      },
      "source": [
        "# Función range()\n",
        "\n",
        "Tiene los mismo componenetes que slicing\n",
        "ini, stop, incremento\n",
        "\n",
        "range(1, 101, 1)"
      ]
    },
    {
      "cell_type": "code",
      "metadata": {
        "colab": {
          "base_uri": "https://localhost:8080/"
        },
        "id": "v6HbWba9Qtp9",
        "outputId": "aa20e0f1-56f4-430e-ebc1-ce91b21c7874"
      },
      "source": [
        "numeros = [ x for x in range(50, 101, 5) ]\n",
        "print(numeros)"
      ],
      "execution_count": null,
      "outputs": [
        {
          "output_type": "stream",
          "name": "stdout",
          "text": [
            "[50, 55, 60, 65, 70, 75, 80, 85, 90, 95, 100]\n"
          ]
        }
      ]
    },
    {
      "cell_type": "markdown",
      "metadata": {
        "id": "kDH7ILqcRJR7"
      },
      "source": [
        "# Métodos disponibles de las listas"
      ]
    },
    {
      "cell_type": "code",
      "metadata": {
        "colab": {
          "base_uri": "https://localhost:8080/"
        },
        "id": "VTwoE6aXRPJS",
        "outputId": "8b99207c-deca-4034-a41b-be63df566bbc"
      },
      "source": [
        "dir(list)"
      ],
      "execution_count": null,
      "outputs": [
        {
          "output_type": "execute_result",
          "data": {
            "text/plain": [
              "['__add__',\n",
              " '__class__',\n",
              " '__contains__',\n",
              " '__delattr__',\n",
              " '__delitem__',\n",
              " '__dir__',\n",
              " '__doc__',\n",
              " '__eq__',\n",
              " '__format__',\n",
              " '__ge__',\n",
              " '__getattribute__',\n",
              " '__getitem__',\n",
              " '__gt__',\n",
              " '__hash__',\n",
              " '__iadd__',\n",
              " '__imul__',\n",
              " '__init__',\n",
              " '__init_subclass__',\n",
              " '__iter__',\n",
              " '__le__',\n",
              " '__len__',\n",
              " '__lt__',\n",
              " '__mul__',\n",
              " '__ne__',\n",
              " '__new__',\n",
              " '__reduce__',\n",
              " '__reduce_ex__',\n",
              " '__repr__',\n",
              " '__reversed__',\n",
              " '__rmul__',\n",
              " '__setattr__',\n",
              " '__setitem__',\n",
              " '__sizeof__',\n",
              " '__str__',\n",
              " '__subclasshook__',\n",
              " 'append',\n",
              " 'clear',\n",
              " 'copy',\n",
              " 'count',\n",
              " 'extend',\n",
              " 'index',\n",
              " 'insert',\n",
              " 'pop',\n",
              " 'remove',\n",
              " 'reverse',\n",
              " 'sort']"
            ]
          },
          "metadata": {},
          "execution_count": 39
        }
      ]
    },
    {
      "cell_type": "code",
      "metadata": {
        "colab": {
          "base_uri": "https://localhost:8080/"
        },
        "id": "958sZa6SSXtn",
        "outputId": "7299fc18-9a79-48ad-8d99-2c85f6d6324b"
      },
      "source": [
        "numeros = [ 4,1,15,8,22,34,50 ]\n",
        "print(numeros)\n",
        "numeros.append( 99 )\n",
        "print(numeros)\n",
        "#numeros.clear()\n",
        "print(numeros)\n",
        "\n",
        "\n",
        "frutas = [\"uvas\", \"kiwi\" , \"manzana\"]\n",
        "copia = frutas\n",
        "print(frutas)\n",
        "print(copia)\n",
        "frutas.append(\"naranja\")\n",
        "print(frutas)\n",
        "print(copia)\n",
        "\n",
        "colores = [\"rojo\" , \"azul\" , \"blanco\"]\n",
        "copia2 = colores.copy()\n",
        "print(colores)\n",
        "print(copia2)\n",
        "colores.append(\"verde\")\n",
        "print(colores)\n",
        "print(copia2)\n",
        "\n",
        "print(\"Números de veces que aparece el 15=\", numeros.count(15) )\n",
        "\n",
        "# extend\n",
        "\n",
        "nombres = [\"Jose\", \"pedro\", \"karina\"]\n",
        "otrosNombres = [\"josue\" , \"diana\" , \"dalia\"]\n",
        "\n",
        "print(nombres)\n",
        "print(otrosNombres)\n",
        "nombres = nombres + otrosNombres\n",
        "print(nombres)\n",
        "print(otrosNombres)\n",
        "\n",
        "# Lo mismo con el método extend\n",
        "otrosNombres.extend( [\"jesus\" , \"maría\" , \"jose\"])\n",
        "print(otrosNombres)\n",
        "print(\"jesus está en la posición:\" , otrosNombres.index(\"jesus\"))\n",
        "otrosNombres.insert(4, \"Espiritu santo\")\n",
        "print(otrosNombres)\n",
        "# pop\n",
        "resultado = otrosNombres.pop()\n",
        "print(otrosnombres)\n",
        "print(resultado)"
      ],
      "execution_count": null,
      "outputs": [
        {
          "output_type": "stream",
          "name": "stdout",
          "text": [
            "[4, 1, 15, 8, 22, 34, 50]\n",
            "[4, 1, 15, 8, 22, 34, 50, 99]\n",
            "[4, 1, 15, 8, 22, 34, 50, 99]\n",
            "['uvas', 'kiwi', 'manzana']\n",
            "['uvas', 'kiwi', 'manzana']\n",
            "['uvas', 'kiwi', 'manzana', 'naranja']\n",
            "['uvas', 'kiwi', 'manzana', 'naranja']\n",
            "['rojo', 'azul', 'blanco']\n",
            "['rojo', 'azul', 'blanco']\n",
            "['rojo', 'azul', 'blanco', 'verde']\n",
            "['rojo', 'azul', 'blanco']\n",
            "Números de veces que aparece el 15= 1\n",
            "['Jose', 'pedro', 'karina']\n",
            "['josue', 'diana', 'dalia']\n",
            "['Jose', 'pedro', 'karina', 'josue', 'diana', 'dalia']\n",
            "['josue', 'diana', 'dalia']\n",
            "['josue', 'diana', 'dalia', 'jesus', 'maría', 'jose']\n",
            "jesus está en la posición: 3\n",
            "['josue', 'diana', 'dalia', 'jesus', 'Espiritu santo', 'maría', 'jose']\n",
            "['josue', 'diana', 'dalia']\n",
            "jose\n"
          ]
        }
      ]
    },
    {
      "cell_type": "markdown",
      "metadata": {
        "id": "DDA-I1_XwAh1"
      },
      "source": [
        "# Tuplas\n",
        "\n",
        "### Características de las tuplas\n",
        "\n",
        "- Datos agrupados\n",
        "- Se declara usando#\n",
        "    - ( )\n",
        "    - tuple( )\n",
        "- es una estructura secuencial, inexada a partir de 0.\n",
        "- Pueden tener de 0 a n elementos.\n",
        "- NO SON MUTABLES (No se puede: eliminar y/o cambiar).\n",
        "- Son buenas para almacenas información de consulta.\n",
        "- Pueden almacenar info. de diferentes tipos de dato.\n",
        "- Pueden estar anidadas.\n",
        "- Tienen métodos útlies."
      ]
    },
    {
      "cell_type": "code",
      "metadata": {
        "colab": {
          "base_uri": "https://localhost:8080/"
        },
        "id": "k5cw_hbYxCKW",
        "outputId": "2d225497-af5c-4dce-adb4-2011d1fd44d0"
      },
      "source": [
        "info = ( \"juan23\" , \"dios1234\" , \"123.232.1.12\" )\n",
        "print( info )\n",
        "print( info[1] )\n",
        "#info[1] = \"patito23\" \n",
        "\n",
        "numeros = (0,1,2,3,4,5,6,7,8,9,10,11,12,13,14,15)\n",
        "print(numeros)\n",
        "print(numeros[5:11])\n",
        "\n",
        "cosas = ( info , numeros)\n",
        "print(cosas)\n",
        "print(cosas[1][5:11])\n",
        "print(cosas[0][2][4:7])\n",
        "print(cosas[0][2][-8:-5])"
      ],
      "execution_count": 21,
      "outputs": [
        {
          "output_type": "stream",
          "name": "stdout",
          "text": [
            "('juan23', 'dios1234', '123.232.1.12')\n",
            "dios1234\n",
            "(0, 1, 2, 3, 4, 5, 6, 7, 8, 9, 10, 11, 12, 13, 14, 15)\n",
            "(5, 6, 7, 8, 9, 10)\n",
            "(('juan23', 'dios1234', '123.232.1.12'), (0, 1, 2, 3, 4, 5, 6, 7, 8, 9, 10, 11, 12, 13, 14, 15))\n",
            "(5, 6, 7, 8, 9, 10)\n",
            "232\n",
            "232\n"
          ]
        }
      ]
    },
    {
      "cell_type": "markdown",
      "metadata": {
        "id": "KI6Sx1SA0qUv"
      },
      "source": [
        "# Métodos de las tuplas\n",
        "Son los mismos de las listas pero los que no invloucren mutabilidad."
      ]
    },
    {
      "cell_type": "code",
      "metadata": {
        "colab": {
          "base_uri": "https://localhost:8080/"
        },
        "id": "T_gaySSo0yeh",
        "outputId": "1adfa190-897a-4d58-d8bf-e9c814009567"
      },
      "source": [
        "dir(tuple)"
      ],
      "execution_count": 23,
      "outputs": [
        {
          "output_type": "execute_result",
          "data": {
            "text/plain": [
              "['__add__',\n",
              " '__class__',\n",
              " '__contains__',\n",
              " '__delattr__',\n",
              " '__dir__',\n",
              " '__doc__',\n",
              " '__eq__',\n",
              " '__format__',\n",
              " '__ge__',\n",
              " '__getattribute__',\n",
              " '__getitem__',\n",
              " '__getnewargs__',\n",
              " '__gt__',\n",
              " '__hash__',\n",
              " '__init__',\n",
              " '__init_subclass__',\n",
              " '__iter__',\n",
              " '__le__',\n",
              " '__len__',\n",
              " '__lt__',\n",
              " '__mul__',\n",
              " '__ne__',\n",
              " '__new__',\n",
              " '__reduce__',\n",
              " '__reduce_ex__',\n",
              " '__repr__',\n",
              " '__rmul__',\n",
              " '__setattr__',\n",
              " '__sizeof__',\n",
              " '__str__',\n",
              " '__subclasshook__',\n",
              " 'count',\n",
              " 'index']"
            ]
          },
          "metadata": {},
          "execution_count": 23
        }
      ]
    },
    {
      "cell_type": "markdown",
      "metadata": {
        "id": "x9Sk7Fjz2yBR"
      },
      "source": [
        "# Diccionarios\n",
        "### Características de los diccionarios\n",
        "\n",
        "- Agrupan datos, pero de forma no lineal.\n",
        "- Se declaran con: \n",
        "   - { }\n",
        "   - dict()\n",
        "\n",
        "- Formado por pares el tipo llave:valor , donde:\n",
        "   - llave es de tipo string (siempre)\n",
        "   - valor puede ser cualquier tipo de dato, incluyendo los diccionarios.\n",
        "- Se seleccionan con llave de la forma: [\"id_llave\"]\n",
        "- Son mutables\n",
        "- Son anidables\n",
        "- Son equivalentes al tipo de dato JSON del lenguaje JavaScript (JS)"
      ]
    },
    {
      "cell_type": "code",
      "metadata": {
        "colab": {
          "base_uri": "https://localhost:8080/"
        },
        "id": "NhoQjomQ4pKv",
        "outputId": "ca9217dd-f664-4e6a-97b2-7355343020c2"
      },
      "source": [
        "alumno = { \"nombre\" : \"José\" }\n",
        "print(alumno)\n",
        "print( alumno[\"nombre\"])\n",
        "alumno = { \"nombre\":\"José\" , \"nc\":\"2129229292\" , \"edad\":18}\n",
        "print(\"Edad del alumno =\" ,alumno[\"edad\"])\n",
        "print(alumno[\"nombre\"].upper())\n",
        "print(alumno)\n",
        "\n",
        "print(\"Alumno 2:\")\n",
        "alumno2 = dict() # { }\n",
        "alumno2[\"nombre\"] = \"jose\"\n",
        "print(alumno2)\n",
        "alumno2[\"nc\"] = \"2129229292\"\n",
        "alumno2[\"edad\"] = 18\n",
        "print(alumno2)\n",
        "alumno2[\"edad\"] = alumno2[\"edad\"] + 1\n",
        "print(alumno2)\n",
        "\n"
      ],
      "execution_count": 38,
      "outputs": [
        {
          "output_type": "stream",
          "name": "stdout",
          "text": [
            "{'nombre': 'José'}\n",
            "José\n",
            "Edad del alumno = 18\n",
            "JOSÉ\n",
            "{'nombre': 'José', 'nc': '2129229292', 'edad': 18}\n",
            "Alumno 2:\n",
            "{'nombre': 'jose'}\n",
            "{'nombre': 'jose', 'nc': '2129229292', 'edad': 18}\n",
            "{'nombre': 'jose', 'nc': '2129229292', 'edad': 19}\n"
          ]
        }
      ]
    },
    {
      "cell_type": "code",
      "metadata": {
        "colab": {
          "base_uri": "https://localhost:8080/"
        },
        "id": "aQH1UMn_8S8S",
        "outputId": "6a0c4f67-b787-452e-8b42-5de96194ac57"
      },
      "source": [
        "cliente = { \"id\":\"CT2121\" ,\n",
        "           \"nombre\" : \"José Pedroza Rosales\" ,\n",
        "           \"telefonos\" : \"casa=554456565 cel=0445567767\" }\n",
        "\n",
        "print(cliente)\n",
        "cliente = { \"id\":\"CT2121\" ,\n",
        "           \"nombre\" : {\n",
        "               \"nombres\" : [\"José\", \"Eduardo\"],\n",
        "               \"paterno\" : \"Pedroza\",\n",
        "               \"materno\" : \"Rosales\"\n",
        "           } ,\n",
        "           \"telefonos\" : {\n",
        "               \"casa\" : \"5569854575\",\n",
        "               \"trabajo\" : \"56894571245\",\n",
        "               \"celular\" : \"0445587695556\"\n",
        "           } ,\n",
        "           \"productos\":{\n",
        "               \"ahorro\":{ \"numero_cuenta\":\"7788\" , \"ahorro\":2500.5},\n",
        "               \"tarjetas\":[\n",
        "                           {\"tipo\":\"debito\" , \"saldo\": 10000.5},\n",
        "                           {\"tipo\":\"credito preferente\" , \"limite\":250000.5},\n",
        "                           {\"tipo\":\"lite\" , \"limite\": 15000.5}\n",
        "               ]\n",
        "           },\n",
        "           \"direccion\":{\n",
        "               \"calle\": \"Av. central\",\n",
        "               \"numero\": 1245,\n",
        "               \"colonia\" :\"Impulsora\",\n",
        "               \"delegacion\" :\"neza\",\n",
        "               \"estado\" : {\n",
        "                           \"clave\" : 15,\n",
        "                          \"nombre_corto\":\"EdoMex\",\n",
        "                          \"nombre\": \"Estado de Mexico\"\n",
        "               \n",
        "               }\n",
        "           }\n",
        "           \n",
        "           }\n",
        "print( cliente[\"telefonos\"][\"casa\"]) \n",
        "print(cliente)\n",
        "print(cliente[\"productos\"][\"ahorro\"][\"ahorro\"])\n",
        "print(cliente[\"productos\"][\"tarjetas\"][2][\"limite\"])\n",
        "print(cliente[\"direccion\"][\"estado\"][\"nombre\"].upper())"
      ],
      "execution_count": 54,
      "outputs": [
        {
          "output_type": "stream",
          "name": "stdout",
          "text": [
            "{'id': 'CT2121', 'nombre': 'José Pedroza Rosales', 'telefonos': 'casa=554456565 cel=0445567767'}\n",
            "5569854575\n",
            "{'id': 'CT2121', 'nombre': {'nombres': ['José', 'Eduardo'], 'paterno': 'Pedroza', 'materno': 'Rosales'}, 'telefonos': {'casa': '5569854575', 'trabajo': '56894571245', 'celular': '0445587695556'}, 'productos': {'ahorro': {'numero_cuenta': '7788', 'ahorro': 2500.5}, 'tarjetas': [{'tipo': 'debito', 'saldo': 10000.5}, {'tipo': 'credito preferente', 'limite': 250000.5}, {'tipo': 'lite', 'limite': 15000.5}]}, 'direccion': {'calle': 'Av. central', 'numero': 1245, 'colonia': 'Impulsora', 'delegacion': 'neza', 'estado': {'clave': 15, 'nombre_corto': 'EdoMex', 'nombre': 'Estado de Mexico'}}}\n",
            "2500.5\n",
            "15000.5\n",
            "ESTADO DE MEXICO\n"
          ]
        }
      ]
    },
    {
      "cell_type": "markdown",
      "metadata": {
        "id": "k9D1eJCRDVw-"
      },
      "source": [
        ""
      ]
    }
  ]
}