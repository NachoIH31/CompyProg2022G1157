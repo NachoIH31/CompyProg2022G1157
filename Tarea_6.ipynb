{
  "nbformat": 4,
  "nbformat_minor": 0,
  "metadata": {
    "colab": {
      "name": "Tarea_6.ipynb",
      "provenance": [],
      "authorship_tag": "ABX9TyNNfsdRPncHhNYZv/jz1eP0",
      "include_colab_link": true
    },
    "kernelspec": {
      "name": "python3",
      "display_name": "Python 3"
    },
    "language_info": {
      "name": "python"
    }
  },
  "cells": [
    {
      "cell_type": "markdown",
      "metadata": {
        "id": "view-in-github",
        "colab_type": "text"
      },
      "source": [
        "<a href=\"https://colab.research.google.com/github/NachoIH31/CompyProg2022G1157/blob/main/Tarea_6.ipynb\" target=\"_parent\"><img src=\"https://colab.research.google.com/assets/colab-badge.svg\" alt=\"Open In Colab\"/></a>"
      ]
    },
    {
      "cell_type": "markdown",
      "metadata": {
        "id": "fkbsSyOairw4"
      },
      "source": [
        "# TAREA 6\n",
        "\n",
        "Realizar los ejercicios del libro Metodología de la Programación del problema  2.1 al 2.13\n",
        "\n",
        "Alumno: Iniestra Hernández José Ignacio\n",
        "\n",
        "Grupo: 1157"
      ]
    },
    {
      "cell_type": "code",
      "metadata": {
        "colab": {
          "base_uri": "https://localhost:8080/"
        },
        "id": "ya_esI8AwKnp",
        "outputId": "2c9d79ef-5cae-416c-d321-dd1ccf4a6f31"
      },
      "source": [
        "# Problema 2.1\n",
        "N = (int(input(\"Ingresa un número entero: \"))) \n",
        "T = float\n",
        "if N > 0:\n",
        "    T = N/4 + 40\n",
        "    print(\"Temperatura:\",T)\n",
        "else:\n",
        "    print(\"Fin del programa\")"
      ],
      "execution_count": 6,
      "outputs": [
        {
          "output_type": "stream",
          "name": "stdout",
          "text": [
            "Introduce un número entero: 50\n",
            "Temperatura: 52.5\n"
          ]
        }
      ]
    },
    {
      "cell_type": "code",
      "metadata": {
        "colab": {
          "base_uri": "https://localhost:8080/"
        },
        "id": "35joWLA30gH3",
        "outputId": "ad28e3fe-7018-4c2f-e6be-349245d4ccaf"
      },
      "source": [
        "# Problema 2.2\n",
        "P = (int(input(\"Ingresa un número entero: \")))\n",
        "Q = (int(input(\"Ingresa un número entero: \")))\n",
        "EXP = P**3 + Q**4 - 2*P**2\n",
        "if EXP < 680:\n",
        "    print(\"P =\",P)\n",
        "    print(\"Q =\",Q)\n",
        "else:\n",
        "    print(\"Fin del programa\")"
      ],
      "execution_count": 14,
      "outputs": [
        {
          "output_type": "stream",
          "name": "stdout",
          "text": [
            "Introduce un número entero: 3\n",
            "Introduce un número entero: 5\n",
            "P = 3\n",
            "Q = 5\n"
          ]
        }
      ]
    },
    {
      "cell_type": "code",
      "metadata": {
        "colab": {
          "base_uri": "https://localhost:8080/"
        },
        "id": "Nwcewt852_0z",
        "outputId": "98f088d7-fdeb-4f0a-ef6e-0b0af381588a"
      },
      "source": [
        "# Problema 2.3\n",
        "A = (float(input(\"Ingresa un número diferente a 0: \")))\n",
        "B = (float(input(\"Ingresa un número: \")))\n",
        "C = (float(input(\"Ingresa un número: \")))\n",
        "DIS = (B**2)-(4*A*C)\n",
        "if DIS >= 0:\n",
        "    X1 = ((-B)+DIS**0.5)/(2*A)\n",
        "    X2 = ((-B)-DIS**0.5)/(2*A)\n",
        "    print(f\"Raíces reales: {X1} y {X2}\")\n",
        "else: \n",
        "    print(\"Fin del programa\")\n",
        "\n",
        "\n"
      ],
      "execution_count": 32,
      "outputs": [
        {
          "output_type": "stream",
          "name": "stdout",
          "text": [
            "Introduce un número diferente a 0: 2.5\n",
            "Introduce un número: -6\n",
            "Introduce un número: -4\n",
            "Raíces reales: 2.9435595774162695 y -0.5435595774162696\n"
          ]
        }
      ]
    },
    {
      "cell_type": "code",
      "metadata": {
        "colab": {
          "base_uri": "https://localhost:8080/"
        },
        "id": "OkxK6ijM9TyT",
        "outputId": "b15832d1-67ea-4059-ff45-b23a085e219c"
      },
      "source": [
        "# Problema 2.4\n",
        "MAT = int(input(\"Ingresa la matrícula: \"))\n",
        "CAL1 = float(input(\"Ingresa la primera calificación: \"))\n",
        "CAL2 = float(input(\"Ingresa la segunda calificación: \"))\n",
        "CAL3 = float(input(\"Ingresa la tercera calificación: \"))\n",
        "CAL4 = float(input(\"Ingresa la cuarta calificación: \"))\n",
        "CAL5 = float(input(\"Ingresa la quinta calificación: \"))\n",
        "PRO = (CAL1+CAL2+CAL3+CAL4+CAL5)/5\n",
        "if PRO >= 6:\n",
        "    print(f\"Matrícula: {MAT}, Promedio: {PRO}, APROBADO\")\n",
        "else:\n",
        "    print(f\"Matrícula: {MAT}, Promedio: {PRO}, NO APROBADO\")\n"
      ],
      "execution_count": 44,
      "outputs": [
        {
          "output_type": "stream",
          "name": "stdout",
          "text": [
            "Introduce la matrícula: 18250\n",
            "Introduce la primera calificación: 9\n",
            "Introduce la segunda calificación: 9.25\n",
            "Introduce la tercera calificación: 8.1\n",
            "Introduce la cuarta calificación: 9.8\n",
            "Introduce la quinta calificación: 10\n",
            "Matrícula: 18250, Promedio: 9.23, APROBADO\n"
          ]
        }
      ]
    },
    {
      "cell_type": "code",
      "metadata": {
        "colab": {
          "base_uri": "https://localhost:8080/"
        },
        "id": "akye5oB7CLgT",
        "outputId": "ff895441-ae0e-4f78-9326-5143b4810845"
      },
      "source": [
        "# Problema 2.5\n",
        "NUM = int(input(\"Ingresa un número entero: \"))\n",
        "if NUM > 0:\n",
        "    print(\"POSITIVO\")\n",
        "else:\n",
        "    if NUM == 0:\n",
        "        print(\"NULO\")\n",
        "    else:\n",
        "        print(\"NEGATIVO\")"
      ],
      "execution_count": 57,
      "outputs": [
        {
          "output_type": "stream",
          "name": "stdout",
          "text": [
            "Ingresa un número entero: 0\n",
            "NULO\n"
          ]
        }
      ]
    },
    {
      "cell_type": "code",
      "metadata": {
        "colab": {
          "base_uri": "https://localhost:8080/"
        },
        "id": "FKCyx-c0E9Ty",
        "outputId": "dca42eed-99c3-40a2-ab75-d89919e1cae5"
      },
      "source": [
        "# Problema 2.6\n",
        "A = int(input(\"Ingresa un número entero: \"))\n",
        "if A == 0:\n",
        "    print(\"NULO\")\n",
        "else:\n",
        "    if (-1)**A>0:\n",
        "        print(\"PAR\")\n",
        "    else:\n",
        "        print(\"IMPAR\")\n"
      ],
      "execution_count": 71,
      "outputs": [
        {
          "output_type": "stream",
          "name": "stdout",
          "text": [
            "Introduce un número entero: 5\n",
            "IMPAR\n"
          ]
        }
      ]
    },
    {
      "cell_type": "code",
      "metadata": {
        "colab": {
          "base_uri": "https://localhost:8080/"
        },
        "id": "HPY6z-DHF95A",
        "outputId": "8c6084fb-eff8-4bc8-d04c-cbe32732a01a"
      },
      "source": [
        "# Problema 2.7\n",
        "A = int(input(\"Ingresa un número entero: \"))\n",
        "B = int(input(\"Ingresa un número entero diferente al número anterior: \"))\n",
        "C = int(input(\"Ingresa un número entero diferente a los dos números anteriores: \"))\n",
        "if A != B and B != C and A != C:\n",
        "    if A < B:\n",
        "        if B < C:\n",
        "            print(\"Los números están en orden creciente\")\n",
        "        else:\n",
        "            print(\"Los números no están en orden creciente\")\n",
        "\n",
        "    else:\n",
        "        print(\"Los números no están en orden creciente\")\n",
        "else:\n",
        "    print(\"Los números deben ser diferentes entre sí\")"
      ],
      "execution_count": 76,
      "outputs": [
        {
          "output_type": "stream",
          "name": "stdout",
          "text": [
            "Introduce un número entero: 5\n",
            "Introduce un número entero diferente al número anterior: 8\n",
            "Introduce un número entero diferente a los dos números anteriores: 12\n",
            "Los números están en orden creciente\n"
          ]
        }
      ]
    },
    {
      "cell_type": "code",
      "metadata": {
        "colab": {
          "base_uri": "https://localhost:8080/"
        },
        "id": "mvjin5PWHqQ3",
        "outputId": "3f31b37a-7c60-442d-ec54-28c941c32964"
      },
      "source": [
        "# Problema 2.8\n",
        "COMPRA = float(input(\"Ingresa el monto de la compra: $\"))\n",
        "if COMPRA < 500:\n",
        "    PAGAR = COMPRA\n",
        "    print(\"El monto a pagar es: $\",PAGAR)\n",
        "else:\n",
        "    if COMPRA <= 1000:\n",
        "        PAGAR = COMPRA - (COMPRA*0.05)\n",
        "        print(\"El monto a pagar es: $\",PAGAR)\n",
        "    else:\n",
        "        if COMPRA <= 7000:\n",
        "            PAGAR = COMPRA - (COMPRA*0.11)\n",
        "            print(\"El monto a pagar es: $\",PAGAR)\n",
        "        else:\n",
        "            if COMPRA <= 15000:\n",
        "                PAGAR = COMPRA - (COMPRA*0.18)\n",
        "                print(\"El monto a pagar es: $\",PAGAR)\n",
        "            else:\n",
        "                PAGAR = COMPRA - (COMPRA*0.25)\n",
        "                print(\"El monto a pagar es: $\",PAGAR)"
      ],
      "execution_count": 94,
      "outputs": [
        {
          "output_type": "stream",
          "name": "stdout",
          "text": [
            "Ingresa el monto de la compra: $25314.18\n",
            "El monto a pagar es: $ 18985.635000000002\n"
          ]
        }
      ]
    },
    {
      "cell_type": "code",
      "metadata": {
        "colab": {
          "base_uri": "https://localhost:8080/"
        },
        "id": "LXOa7nL_OKX0",
        "outputId": "12012109-b819-49fc-9019-f360e8af13a9"
      },
      "source": [
        "# Problema 2.9\n",
        "PREBAS = float(input(\"Ingresa el precio básico del producto: \"))\n",
        "if PREBAS > 500:\n",
        "    IMP = (20 * 0.30) + (PREBAS - 40) * 0.50\n",
        "    PRETOT = PREBAS + IMP\n",
        "    print(\"El precio básico del producto es: $\",PREBAS)\n",
        "    print(\"El costo total del producto es: $\",PRETOT)\n",
        "else:\n",
        "    if PREBAS > 40:\n",
        "        IMP = (20 * 0.30) + (PREBAS - 40) * 0.40\n",
        "        PRETOT = PREBAS + IMP\n",
        "        print(\"El precio básico del producto es: $\",PREBAS)\n",
        "        print(\"El costo total del producto es: $\",PRETOT)\n",
        "    else:\n",
        "        if PREBAS > 20:\n",
        "            IMP = (PREBAS - 20) * 0.30\n",
        "            PRETOT = PREBAS + IMP\n",
        "            print(\"El precio básico del producto es: $\",PREBAS)\n",
        "            print(\"El costo total del producto es: $\",PRETOT)\n",
        "        else:\n",
        "            IMP = 0\n",
        "            PRETOT = PREBAS + IMP\n",
        "            print(\"El precio básico del producto es: $\",PREBAS)\n",
        "            print(\"El costo total del producto es: $\",PRETOT)"
      ],
      "execution_count": 111,
      "outputs": [
        {
          "output_type": "stream",
          "name": "stdout",
          "text": [
            "Ingresa el precio básico del producto: 27.90\n",
            "El precio básico del producto es: $ 27.9\n",
            "El costo total del producto es: $ 30.27\n"
          ]
        }
      ]
    },
    {
      "cell_type": "code",
      "metadata": {
        "colab": {
          "base_uri": "https://localhost:8080/"
        },
        "id": "D18B6c82U4gn",
        "outputId": "23463743-16af-4883-9cbd-71bd6dd43dd6"
      },
      "source": [
        "# Problema 2.10\n",
        "A = int(input(\"Ingresa un número entero: \"))\n",
        "B = int(input(\"Ingresa un número entero: \"))\n",
        "C = int(input(\"Ingresa un número entero: \"))\n",
        "if A > B:\n",
        "    if A > C:\n",
        "        print(f\"{A} es el mayor\")\n",
        "    else:\n",
        "        if A == C:\n",
        "            print(f\"{A} y {C} son los mayores\")\n",
        "        else:\n",
        "            print(f\"{C} es el mayor\")\n",
        "else:\n",
        "    if A == B:\n",
        "        if A > C:\n",
        "            print(f\"{A} y {B} son los mayores\")\n",
        "        else:\n",
        "            if A == C:\n",
        "                print(f\"{A}, {B} y {C} son iguales\")\n",
        "            else:\n",
        "                print(f\"{C} es el mayor\")\n",
        "    else:\n",
        "        if B > C:\n",
        "            print(f\"{B} es el mayor\")\n",
        "        else:\n",
        "            if B == C:\n",
        "                print(f\"{B} y {C} son los mayores\")\n",
        "            else:\n",
        "                print(f\"{C} es el mayor\")\n"
      ],
      "execution_count": 120,
      "outputs": [
        {
          "output_type": "stream",
          "name": "stdout",
          "text": [
            "Ingresa un número entero: 17\n",
            "Ingresa un número entero: 17\n",
            "Ingresa un número entero: 17\n",
            "17, 17 y 17 son iguales\n"
          ]
        }
      ]
    },
    {
      "cell_type": "code",
      "metadata": {
        "colab": {
          "base_uri": "https://localhost:8080/"
        },
        "id": "WwvtsLizXrMv",
        "outputId": "41af75a3-e7d6-48d6-e85f-2721f3637cd1"
      },
      "source": [
        "# Problema 2.11\n",
        "CLAVE = int(input(\"Ingresa la clave de la zona geográfica a la que se llamó: \"))\n",
        "NUMIN = int(input(\"Ingresa la duración (en minutos) de la llamada: \"))\n",
        "if CLAVE == 12:\n",
        "    COST = NUMIN * 2\n",
        "    print(\"Costo total de la llamada: $\",COST)\n",
        "elif CLAVE == 15:\n",
        "    COST = NUMIN * 2.2\n",
        "    print(\"Costo total de la llamada: $\",COST)\n",
        "elif CLAVE == 18:\n",
        "    COST = NUMIN * 4.5\n",
        "    print(\"Costo total de la llamada: $\",COST)\n",
        "elif CLAVE == 19:\n",
        "    COST = NUMIN * 3.5\n",
        "    print(\"Costo total de la llamada: $\",COST)\n",
        "elif CLAVE == 23 or CLAVE == 25:\n",
        "    COST = NUMIN * 6\n",
        "    print(\"Costo total de la llamada: $\",COST)\n",
        "elif CLAVE == 29:\n",
        "    COST = NUMIN * 5\n",
        "    print(\"Costo total de la llamada: $\",COST)\n",
        "else:\n",
        "    print(\"Fin del programa\")"
      ],
      "execution_count": 134,
      "outputs": [
        {
          "output_type": "stream",
          "name": "stdout",
          "text": [
            "Ingresa la clave de la zona geográfica a la que se llamó: 18\n",
            "Ingresa la duración (en minutos) de la llamada: 12\n",
            "Costo total de la llamada: $ 54.0\n"
          ]
        }
      ]
    },
    {
      "cell_type": "code",
      "metadata": {
        "colab": {
          "base_uri": "https://localhost:8080/"
        },
        "id": "XPi4Widua60a",
        "outputId": "2afee2fc-aee4-4644-c88b-83e24c2c851e"
      },
      "source": [
        "# Problema 2.12\n",
        "SUE = float(input(\"Ingrese el sueldo del trabajador: $\"))\n",
        "CATE = int(input(\"Ingrese la categoría del trabajador (1-8): \"))\n",
        "HE = int(input(\"Ingrese las horas extras trabajadas: \"))\n",
        "if CATE == 1:\n",
        "    PHE = 30\n",
        "    if HE > 30:\n",
        "        NSUE = SUE + (30 * PHE)\n",
        "        print(\"El pago al trabajador es de: $\",NSUE)\n",
        "    else:\n",
        "        NSUE = SUE + (HE * PHE)\n",
        "        print(\"El pago al trabajador es de: $\",NSUE)\n",
        "elif CATE == 2:\n",
        "    PHE = 38\n",
        "    if HE > 30:\n",
        "        NSUE = SUE + (30 * PHE)\n",
        "        print(\"El pago al trabajador es de: $\",NSUE)\n",
        "    else:\n",
        "        NSUE = SUE + (HE * PHE)\n",
        "        print(\"El pago al trabajador es de: $\",NSUE)\n",
        "elif CATE == 3:\n",
        "    PHE = 50\n",
        "    if HE > 30:\n",
        "        NSUE = SUE + (30 * PHE)\n",
        "        print(\"El pago al trabajador es de: $\",NSUE)\n",
        "    else:\n",
        "        NSUE = SUE + (HE * PHE)\n",
        "        print(\"El pago al trabajador es de: $\",NSUE)\n",
        "elif CATE == 4:\n",
        "    PHE = 70\n",
        "    if HE > 30:\n",
        "        NSUE = SUE + (30 * PHE)\n",
        "        print(\"El pago al trabajador es de: $\",NSUE)\n",
        "    else:\n",
        "        NSUE = SUE + (HE * PHE)\n",
        "        print(\"El pago al trabajador es de: $\",NSUE)\n",
        "elif CATE > 4 and CATE <= 8:\n",
        "    PHE = 0\n",
        "    if HE > 30:\n",
        "        NSUE = SUE + (30 * PHE)\n",
        "        print(\"El pago al trabajador es de: $\",NSUE)\n",
        "    else:\n",
        "        NSUE = SUE + (HE * PHE)\n",
        "        print(\"El pago al trabajador es de: $\",NSUE)\n",
        "else:\n",
        "    print(\"Fin del programa\")\n"
      ],
      "execution_count": 145,
      "outputs": [
        {
          "output_type": "stream",
          "name": "stdout",
          "text": [
            "Ingrese el sueldo del trabajador: $3200\n",
            "Ingrese la categoría del trabajador (1-8): 3\n",
            "Ingrese las horas extras trabajadas: 8\n",
            "El pago al trabajador es de: $ 3600.0\n"
          ]
        }
      ]
    },
    {
      "cell_type": "code",
      "metadata": {
        "colab": {
          "base_uri": "https://localhost:8080/"
        },
        "id": "fGqJjkgjeoA2",
        "outputId": "03332a02-0678-4f07-b566-7e79e8e86e68"
      },
      "source": [
        "# Problema 2.13\n",
        "MAT = int(input(\"Ingresa la matrícula: \"))\n",
        "CARR = str(input(\"Ingresa la carrera inscrita: \"))\n",
        "SEM = int(input(\"Ingresa el semestre: \"))\n",
        "PROM = float(input(\"Ingresa el promedio: \"))\n",
        "if CARR == \"Economía\":\n",
        "    if SEM >= 6 and PROM >= 8.8:\n",
        "        print(f\"Matrícula: {MAT}, Carrera: {CARR}, Aceptado\")\n",
        "    else:\n",
        "        print(\"Fin del programa\")\n",
        "elif CARR == \"Computación\":\n",
        "    if SEM > 6 and PROM > 8.5:\n",
        "        print(f\"Matrícula: {MAT}, Carrera: {CARR}, Aceptado\")\n",
        "    else:\n",
        "        print(\"Fin del programa\")\n",
        "elif CARR == \"Contabilidad\" or CARR == \"Administración\":\n",
        "    if SEM > 5 and PROM > 8.5:\n",
        "        print(f\"Matrícula: {MAT}, Carrera: {CARR}, Aceptado\")\n",
        "    else:\n",
        "        print(\"Fin del programa\")\n",
        "else:\n",
        "    print(\"Fin del programa\")\n"
      ],
      "execution_count": 159,
      "outputs": [
        {
          "output_type": "stream",
          "name": "stdout",
          "text": [
            "Ingresa la matrícula: 25224\n",
            "Ingresa la carrera inscrita: Computación\n",
            "Ingresa el semestre: 8\n",
            "Ingresa el promedio: 8.7\n",
            "Matrícula: 25224, Carrera: Computación, Aceptado\n"
          ]
        }
      ]
    }
  ]
}