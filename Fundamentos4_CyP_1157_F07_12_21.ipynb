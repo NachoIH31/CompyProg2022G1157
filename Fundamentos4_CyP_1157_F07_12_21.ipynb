{
  "nbformat": 4,
  "nbformat_minor": 0,
  "metadata": {
    "colab": {
      "name": "Fundamentos4_CyP_1157_F07/12/21.ipynb",
      "provenance": [],
      "authorship_tag": "ABX9TyMeFqodLhAC59hdA1XA+CPE",
      "include_colab_link": true
    },
    "kernelspec": {
      "name": "python3",
      "display_name": "Python 3"
    },
    "language_info": {
      "name": "python"
    }
  },
  "cells": [
    {
      "cell_type": "markdown",
      "metadata": {
        "id": "view-in-github",
        "colab_type": "text"
      },
      "source": [
        "<a href=\"https://colab.research.google.com/github/NachoIH31/CompyProg2022G1157/blob/main/Fundamentos4_CyP_1157_F07_12_21.ipynb\" target=\"_parent\"><img src=\"https://colab.research.google.com/assets/colab-badge.svg\" alt=\"Open In Colab\"/></a>"
      ]
    },
    {
      "cell_type": "markdown",
      "metadata": {
        "id": "P9NTcnWKVOtE"
      },
      "source": [
        "Una función es una unidad de código reutilizable, además de ser un mecanismo para organizar código.\n",
        "\n",
        "La gran ventaja de emplear funciones es simplificar la programación.\n",
        "\n",
        "### Estructura\n",
        "Una función puede tomar cualquier cantidad de parámetros de entrada (de cualquier tipo) y retornar únicamente un sólo valor.\n",
        "\n",
        "Un parámetro de etrada es un valor que recibe la función para realizar sus operaciones.\n",
        "\n",
        "Con una función se pueden hacer dos cosas:           \n",
        "1. Definirla\n",
        "2. Invocarla (ejecutarla)\n",
        "\n",
        "La gran ventaja de tener una función declarada es que la podemos reutilizar cuando se desee."
      ]
    },
    {
      "cell_type": "markdown",
      "metadata": {
        "id": "VJfFJybvULJC"
      },
      "source": [
        "# Modularidad (Funciones)\n",
        "https://drive.google.com/file/d/1jwius9pGgiDmct5ps9iUfl6fdeNfy422/view?usp=drive_web&authuser=0"
      ]
    },
    {
      "cell_type": "code",
      "metadata": {
        "id": "TsX9k7FFUEF6"
      },
      "source": [
        "def sumar( op1 , op2 ):\n",
        "    res = op1 + op2\n",
        "    return res"
      ],
      "execution_count": null,
      "outputs": []
    },
    {
      "cell_type": "code",
      "metadata": {
        "colab": {
          "base_uri": "https://localhost:8080/"
        },
        "id": "UgcEXUy3YFAO",
        "outputId": "5bd88ef0-6085-4336-a4c1-9941e5f05d40"
      },
      "source": [
        "res = sumar( 2 , 5 )\n",
        "print(res)\n",
        "res = sumar(33,22)\n",
        "print(res)"
      ],
      "execution_count": null,
      "outputs": [
        {
          "output_type": "stream",
          "name": "stdout",
          "text": [
            "7\n",
            "55\n"
          ]
        }
      ]
    },
    {
      "cell_type": "code",
      "metadata": {
        "colab": {
          "base_uri": "https://localhost:8080/"
        },
        "id": "zw1AN0_AZQfD",
        "outputId": "2f9ce1e3-77f2-4927-d9c3-190507ac0f3c"
      },
      "source": [
        "help(print)"
      ],
      "execution_count": null,
      "outputs": [
        {
          "output_type": "stream",
          "name": "stdout",
          "text": [
            "Help on built-in function print in module builtins:\n",
            "\n",
            "print(...)\n",
            "    print(value, ..., sep=' ', end='\\n', file=sys.stdout, flush=False)\n",
            "    \n",
            "    Prints the values to a stream, or to sys.stdout by default.\n",
            "    Optional keyword arguments:\n",
            "    file:  a file-like object (stream); defaults to the current sys.stdout.\n",
            "    sep:   string inserted between values, default a space.\n",
            "    end:   string appended after the last value, default a newline.\n",
            "    flush: whether to forcibly flush the stream.\n",
            "\n"
          ]
        }
      ]
    },
    {
      "cell_type": "code",
      "metadata": {
        "colab": {
          "base_uri": "https://localhost:8080/"
        },
        "id": "_sNpG1ySZuz6",
        "outputId": "2b0fb5df-cfc5-4925-969e-1862237b0c90"
      },
      "source": [
        "print(\"Hola\",\"Nacho\",sep=\"-\")"
      ],
      "execution_count": null,
      "outputs": [
        {
          "output_type": "stream",
          "name": "stdout",
          "text": [
            "Hola-Nacho\n"
          ]
        }
      ]
    },
    {
      "cell_type": "code",
      "metadata": {
        "colab": {
          "base_uri": "https://localhost:8080/"
        },
        "id": "h-3JsCPWaTUI",
        "outputId": "2a8e4baa-cbc3-4acf-dfe6-cb36c0dedcf7"
      },
      "source": [
        "def imprime_cuadro():\n",
        "    print(\"****\")\n",
        "    print(\"****\")\n",
        "    print(\"****\")\n",
        "    print(\"****\")\n",
        "    # return None\n",
        "\n",
        "imprime_cuadro()"
      ],
      "execution_count": null,
      "outputs": [
        {
          "output_type": "stream",
          "name": "stdout",
          "text": [
            "****\n",
            "****\n",
            "****\n",
            "****\n"
          ]
        }
      ]
    },
    {
      "cell_type": "markdown",
      "metadata": {
        "id": "ZS0h2R-Ra9t5"
      },
      "source": [
        "# Valor de retorno de una función\n",
        "\n",
        "Regla de oro.- Una función simpre retorna **UN SOLO VALOR**. Inclusive si ese valor es el vacío."
      ]
    },
    {
      "cell_type": "code",
      "metadata": {
        "colab": {
          "base_uri": "https://localhost:8080/"
        },
        "id": "MK4f7x-4bOLN",
        "outputId": "13cee15c-e311-47ac-de76-12e73371930e"
      },
      "source": [
        "# Invocar sumar\n",
        "res = sumar(7,8)\n",
        "print(res)\n",
        "# Invocar la función imprime_cuadro\n",
        "res = imprime_cuadro()\n",
        "print(res)"
      ],
      "execution_count": null,
      "outputs": [
        {
          "output_type": "stream",
          "name": "stdout",
          "text": [
            "15\n",
            "****\n",
            "****\n",
            "****\n",
            "****\n",
            "None\n"
          ]
        }
      ]
    },
    {
      "cell_type": "markdown",
      "metadata": {
        "id": "EAgdZ_uUdPC3"
      },
      "source": [
        "# La palabar reservada **None** de Python\n",
        "\n",
        "Esta palabra reservada significa vacío, equivalente a la palabra reservada \"void\" del Lenguaje C++ y Java.\n",
        "\n",
        "Se usa para indicar ya sea para indicar un return vacío o que se recibe como parámetro un vacío."
      ]
    },
    {
      "cell_type": "code",
      "metadata": {
        "id": "NsfaA5JhdHLz"
      },
      "source": [
        "def multiplicar( valor , veces):\n",
        "    c = valor * veces\n",
        "    return c"
      ],
      "execution_count": null,
      "outputs": []
    },
    {
      "cell_type": "code",
      "metadata": {
        "colab": {
          "base_uri": "https://localhost:8080/",
          "height": 269
        },
        "id": "VsIWTjaAeLHd",
        "outputId": "d6636689-2672-45d8-a32d-533edde4aa03"
      },
      "source": [
        "res = multiplicar(5,5)\n",
        "print(res)"
      ],
      "execution_count": null,
      "outputs": [
        {
          "output_type": "error",
          "ename": "TypeError",
          "evalue": "ignored",
          "traceback": [
            "\u001b[0;31m---------------------------------------------------------------------------\u001b[0m",
            "\u001b[0;31mTypeError\u001b[0m                                 Traceback (most recent call last)",
            "\u001b[0;32m<ipython-input-21-85d39183868b>\u001b[0m in \u001b[0;36m<module>\u001b[0;34m()\u001b[0m\n\u001b[0;32m----> 1\u001b[0;31m \u001b[0mres\u001b[0m \u001b[0;34m=\u001b[0m \u001b[0mmultiplicar\u001b[0m\u001b[0;34m(\u001b[0m\u001b[0;32mNone\u001b[0m\u001b[0;34m,\u001b[0m\u001b[0;36m5\u001b[0m\u001b[0;34m)\u001b[0m\u001b[0;34m\u001b[0m\u001b[0;34m\u001b[0m\u001b[0m\n\u001b[0m\u001b[1;32m      2\u001b[0m \u001b[0mprint\u001b[0m\u001b[0;34m(\u001b[0m\u001b[0mres\u001b[0m\u001b[0;34m)\u001b[0m\u001b[0;34m\u001b[0m\u001b[0;34m\u001b[0m\u001b[0m\n",
            "\u001b[0;32m<ipython-input-20-a94390b08bcc>\u001b[0m in \u001b[0;36mmultiplicar\u001b[0;34m(valor, veces)\u001b[0m\n\u001b[1;32m      1\u001b[0m \u001b[0;32mdef\u001b[0m \u001b[0mmultiplicar\u001b[0m\u001b[0;34m(\u001b[0m \u001b[0mvalor\u001b[0m \u001b[0;34m,\u001b[0m \u001b[0mveces\u001b[0m\u001b[0;34m)\u001b[0m\u001b[0;34m:\u001b[0m\u001b[0;34m\u001b[0m\u001b[0;34m\u001b[0m\u001b[0m\n\u001b[0;32m----> 2\u001b[0;31m     \u001b[0mc\u001b[0m \u001b[0;34m=\u001b[0m \u001b[0mvalor\u001b[0m \u001b[0;34m*\u001b[0m \u001b[0mveces\u001b[0m\u001b[0;34m\u001b[0m\u001b[0;34m\u001b[0m\u001b[0m\n\u001b[0m\u001b[1;32m      3\u001b[0m     \u001b[0;32mreturn\u001b[0m \u001b[0mc\u001b[0m\u001b[0;34m\u001b[0m\u001b[0;34m\u001b[0m\u001b[0m\n",
            "\u001b[0;31mTypeError\u001b[0m: unsupported operand type(s) for *: 'NoneType' and 'int'"
          ]
        }
      ]
    },
    {
      "cell_type": "code",
      "metadata": {
        "id": "6kcqdJwAewof"
      },
      "source": [
        "def multiplicar( valor , veces):\n",
        "    if valor == None:\n",
        "        c = -1\n",
        "    else:\n",
        "        c = valor * veces\n",
        "    return c"
      ],
      "execution_count": null,
      "outputs": []
    },
    {
      "cell_type": "code",
      "metadata": {
        "id": "xwhLSMDhfAjp"
      },
      "source": [
        "res = multiplicar(None,5)\n",
        "print(res)"
      ],
      "execution_count": null,
      "outputs": []
    },
    {
      "cell_type": "markdown",
      "metadata": {
        "id": "LlnZKeLwfkEM"
      },
      "source": [
        "# Parámetros y Argumentos\n",
        "Son conceptos relacionados y su diferencia esta centrada en el momento que se emplea en una función.\n",
        "\n",
        "Es decir, en la función sumar de arriba, cuando se declara se le llama parámetro y cuando se invoca se llama argumento\n",
        "\n",
        "\n"
      ]
    },
    {
      "cell_type": "markdown",
      "metadata": {
        "id": "_ZqdiG-ffb-M"
      },
      "source": [
        "# Argumentos posicionales\n",
        "En Python es posible determinar a que parámetros están dirigidos los argumentos, según su posición.\n",
        "\n"
      ]
    },
    {
      "cell_type": "code",
      "metadata": {
        "id": "cQUc80qrgqJp"
      },
      "source": [
        "def dividir( op1, op2 ):\n",
        "    c = op1 / op2\n",
        "    return c"
      ],
      "execution_count": null,
      "outputs": []
    },
    {
      "cell_type": "code",
      "metadata": {
        "colab": {
          "base_uri": "https://localhost:8080/"
        },
        "id": "WoQLWMW7g5Tl",
        "outputId": "9d3f7ba3-9ab2-41ef-b825-8d403b2acab2"
      },
      "source": [
        "num1 = 25\n",
        "num2 = 5\n",
        "res = dividir(num1,num2)\n",
        "print(res)\n",
        "res = dividir(num2,num1)\n",
        "print(res)"
      ],
      "execution_count": null,
      "outputs": [
        {
          "output_type": "stream",
          "name": "stdout",
          "text": [
            "5.0\n",
            "0.2\n"
          ]
        }
      ]
    },
    {
      "cell_type": "markdown",
      "metadata": {
        "id": "R8dZUgB-hXzP"
      },
      "source": [
        "# Argumentos con palábras clave (keywords)\n",
        "\n",
        "Es la posibilidad de indicarle a la función en tiempo de ejecución a qué parametro va dirigido un argmuento de entrada.\n",
        "\n",
        "Sólo disponible en Python"
      ]
    },
    {
      "cell_type": "code",
      "metadata": {
        "colab": {
          "base_uri": "https://localhost:8080/"
        },
        "id": "nBV-5tTmhwWa",
        "outputId": "8782b06b-7cfe-47f9-ea8c-3ba93ecbea6c"
      },
      "source": [
        "res = dividir(op2=num2,op1=num1)\n",
        "print(res)"
      ],
      "execution_count": null,
      "outputs": [
        {
          "output_type": "stream",
          "name": "stdout",
          "text": [
            "5.0\n"
          ]
        }
      ]
    },
    {
      "cell_type": "code",
      "metadata": {
        "id": "l44e1ayJiXXO"
      },
      "source": [
        "def letra_J( caracter ):\n",
        "    print(f\"   {caracter}\")\n",
        "    print(f\"   {caracter}\")\n",
        "    print(f\"   {caracter}\")\n",
        "    print(f\"   {caracter}\")\n",
        "    print(f\"{caracter}{caracter}{caracter}{caracter}\")"
      ],
      "execution_count": null,
      "outputs": []
    },
    {
      "cell_type": "code",
      "metadata": {
        "colab": {
          "base_uri": "https://localhost:8080/"
        },
        "id": "llYcyNVPiqaI",
        "outputId": "72bbe5d4-51f0-44de-8424-12ded4a29ed6"
      },
      "source": [
        "letra_J(\"J\")"
      ],
      "execution_count": null,
      "outputs": [
        {
          "output_type": "stream",
          "name": "stdout",
          "text": [
            "   J\n",
            "   J\n",
            "   J\n",
            "   J\n",
            "JJJJ\n"
          ]
        }
      ]
    },
    {
      "cell_type": "markdown",
      "source": [
        "# Argumento por defecto\n",
        "\n",
        "Es la capacidad de las funciones de establecer un valor por defecto (default).\n",
        "\n",
        "Si no se envía un argumento a dicho parámetro, entonces se asigna el que el programador asignó como default"
      ],
      "metadata": {
        "id": "X30sMzZk-ITn"
      }
    },
    {
      "cell_type": "code",
      "source": [
        "def dividir( op1 , op2=2 ):\n",
        "    c = op1 / op2\n",
        "    return c\n",
        "\n",
        "print(dividir(25))"
      ],
      "metadata": {
        "colab": {
          "base_uri": "https://localhost:8080/"
        },
        "id": "AeBwltSX-dT9",
        "outputId": "ff22c768-70aa-49ce-b2c3-9d3da560a5a3"
      },
      "execution_count": 3,
      "outputs": [
        {
          "output_type": "stream",
          "name": "stdout",
          "text": [
            "12.5\n"
          ]
        }
      ]
    },
    {
      "cell_type": "markdown",
      "source": [
        "Este concepto se puede ejemplificar con la función **print**."
      ],
      "metadata": {
        "id": "Q46cA_FL_HMn"
      }
    },
    {
      "cell_type": "code",
      "source": [
        "help(print)"
      ],
      "metadata": {
        "colab": {
          "base_uri": "https://localhost:8080/"
        },
        "id": "Hn0PE_XB_Gkp",
        "outputId": "128c1583-79f7-473c-eb46-b041dbdaf0ca"
      },
      "execution_count": 4,
      "outputs": [
        {
          "output_type": "stream",
          "name": "stdout",
          "text": [
            "Help on built-in function print in module builtins:\n",
            "\n",
            "print(...)\n",
            "    print(value, ..., sep=' ', end='\\n', file=sys.stdout, flush=False)\n",
            "    \n",
            "    Prints the values to a stream, or to sys.stdout by default.\n",
            "    Optional keyword arguments:\n",
            "    file:  a file-like object (stream); defaults to the current sys.stdout.\n",
            "    sep:   string inserted between values, default a space.\n",
            "    end:   string appended after the last value, default a newline.\n",
            "    flush: whether to forcibly flush the stream.\n",
            "\n"
          ]
        }
      ]
    },
    {
      "cell_type": "code",
      "source": [
        "nombre = \"José\"\n",
        "edad = 18\n",
        "print(nombre,edad, sep='+-+-+-+-+')\n",
        "print(\"Hola\", end=\" \")\n",
        "print(\"--------\")"
      ],
      "metadata": {
        "colab": {
          "base_uri": "https://localhost:8080/"
        },
        "id": "uqp_V0PW_pYf",
        "outputId": "6863ea51-1059-4858-da15-0671dbf5c834"
      },
      "execution_count": 12,
      "outputs": [
        {
          "output_type": "stream",
          "name": "stdout",
          "text": [
            "José+-+-+-+-+18\n",
            "Hola --------\n",
            "SS\n"
          ]
        }
      ]
    },
    {
      "cell_type": "markdown",
      "source": [
        "# Ejercicio de Argumentos posicionales"
      ],
      "metadata": {
        "id": "Aze40PbPAnKK"
      }
    },
    {
      "cell_type": "code",
      "source": [
        "def comanda(comensal=1,primer=\"Consomé\",segundo=\"Arroz rojo\",tercero=\"Enchiladas\"):\n",
        "    print(f\"El comensal {comensal} quiere:\")\n",
        "    print(\"\\t Entrada:\",primer)\n",
        "    print(\"\\t Medio:\",segundo)\n",
        "    print(\"\\t Plato fuerte:\",tercero)\n",
        "\n",
        "comanda()\n",
        "\n",
        "comanda(3,\"Ensalada\",\"Arroz blanco\",\"Espárragos al horno\")\n",
        "comanda(\"Arroz blanco\",\"Espárragos al horno\",\"Ensalada\",3) #En desorden sino se hace uso de las keywords\n",
        "comanda(segundo=\"Arroz blanco\",tercero=\"Espárragos al horno\",primer=\"Ensalada\",comensal=3)\n"
      ],
      "metadata": {
        "colab": {
          "base_uri": "https://localhost:8080/"
        },
        "id": "2cGy3XomA1B6",
        "outputId": "fef4c607-dd44-40f4-8d9d-2c018e82e945"
      },
      "execution_count": 17,
      "outputs": [
        {
          "output_type": "stream",
          "name": "stdout",
          "text": [
            "El comensal 1 quiere:\n",
            "\t Entrada: Consomé\n",
            "\t Medio: Arroz rojo\n",
            "\t Plato fuerte: Enchiladas\n",
            "El comensal 3 quiere:\n",
            "\t Entrada: Ensalada\n",
            "\t Medio: Arroz blanco\n",
            "\t Plato fuerte: Espárragos al horno\n",
            "El comensal Arroz blanco quiere:\n",
            "\t Entrada: Espárragos al horno\n",
            "\t Medio: Ensalada\n",
            "\t Plato fuerte: 3\n",
            "El comensal 3 quiere:\n",
            "\t Entrada: Ensalada\n",
            "\t Medio: Arroz blanco\n",
            "\t Plato fuerte: Espárragos al horno\n"
          ]
        }
      ]
    },
    {
      "cell_type": "markdown",
      "source": [
        "# Argumentos enviados en grupo en una tupla.\n",
        "Esto sirve para envíar múltiples argumentos a una función empleando el comodín *.\n",
        "\n",
        "```\n",
        "def minfun( args* ):      \n",
        "    <cuerpo de la función>\n",
        "```"
      ],
      "metadata": {
        "id": "u5tqBClyDevM"
      }
    },
    {
      "cell_type": "code",
      "source": [
        "def comanda2( *opciones ):\n",
        "    #print( opciones )\n",
        "    print(f\"El comensal {opciones[0]} pidió:\")\n",
        "    print(\"\\tEntrada: \",opciones[1])\n",
        "    print(\"\\tSegundo: \",opciones[2])\n",
        "    print(\"\\tPlato fuerte: \",opciones[3])\n",
        "    print(\"Indicaciones extra:\")\n",
        "    for instrucción in opciones[4::]:\n",
        "        print(\"\\n\",instrucción)\n",
        "\n",
        "comanda2(1 , \"Sopa de fideo\", \"Arroz\", \"Arrachera\",\"La Arrachera que aún se mueva\",\"Postre gelatina\")"
      ],
      "metadata": {
        "colab": {
          "base_uri": "https://localhost:8080/"
        },
        "id": "zKILdLYFEOXe",
        "outputId": "9fe3ca54-ffe9-48f4-82ff-1be9e9c4c2f2"
      },
      "execution_count": 28,
      "outputs": [
        {
          "output_type": "stream",
          "name": "stdout",
          "text": [
            "El comensal 1 pidió:\n",
            "\tEntrada:  Sopa de fideo\n",
            "\tSegundo:  Arroz\n",
            "\tPlato fuerte:  Arrachera\n",
            "Indicaciones extra:\n",
            "\n",
            " La Arrachera que aún se mueva\n",
            "\n",
            " Postre gelatina\n"
          ]
        }
      ]
    },
    {
      "cell_type": "markdown",
      "source": [
        "# Argumentos enviados en grupo en un diccionario.\n",
        "Es el mismo concepto que el anterior, pero se usa el comodín ** y se mapea a un diccionario."
      ],
      "metadata": {
        "id": "gJeOmBjgG1A3"
      }
    },
    {
      "cell_type": "code",
      "source": [
        "def comanda3( **opciones ):\n",
        "    ops = opciones.keys()\n",
        "    print(ops)\n",
        "    for key in ops:\n",
        "        print(f\"{key} = {opciones[key]} \")\n",
        "\n",
        "comanda3(segundo=\"arroz blanco\",tercero=\"Esparragos al horno\",primer=\"Ensalada\",comensal=3)\n"
      ],
      "metadata": {
        "colab": {
          "base_uri": "https://localhost:8080/"
        },
        "id": "Ojybv8PvHDXJ",
        "outputId": "86635f25-a77f-4764-8c5a-b22e4750d781"
      },
      "execution_count": 34,
      "outputs": [
        {
          "output_type": "stream",
          "name": "stdout",
          "text": [
            "dict_keys(['segundo', 'tercero', 'primer', 'comensal'])\n",
            "segundo = arroz blanco \n",
            "tercero = Esparragos al horno \n",
            "primer = Ensalada \n",
            "comensal = 3 \n"
          ]
        }
      ]
    },
    {
      "cell_type": "code",
      "source": [
        "# Modularidad y bibliotecas.\n",
        "Todos los lenguajes de programación tiene la capacidad\n",
        "de compartir código entre la comunidad de programadores\n",
        "\n",
        "Para ello cada lenguaje establece un mecanismo para escribir\n",
        "y compartir bibliotecas."
      ],
      "metadata": {
        "id": "RcfUCaG2JmJ4"
      },
      "execution_count": null,
      "outputs": []
    },
    {
      "cell_type": "code",
      "source": [
        "!pip install simple_chalk"
      ],
      "metadata": {
        "colab": {
          "base_uri": "https://localhost:8080/"
        },
        "id": "KzB8rbVfMDp9",
        "outputId": "06ba7759-d0ce-47a0-d435-bb660a8ea2a8"
      },
      "execution_count": 38,
      "outputs": [
        {
          "output_type": "stream",
          "name": "stdout",
          "text": [
            "Collecting simple_chalk\n",
            "  Downloading simple_chalk-0.1.0.tar.gz (13 kB)\n",
            "Building wheels for collected packages: simple-chalk\n",
            "  Building wheel for simple-chalk (setup.py) ... \u001b[?25l\u001b[?25hdone\n",
            "  Created wheel for simple-chalk: filename=simple_chalk-0.1.0-py3-none-any.whl size=22163 sha256=45d4c3c6d621a49e902d9eeb51aec6365fdd7812ae6c66da2ef9ff804cf41fcc\n",
            "  Stored in directory: /root/.cache/pip/wheels/24/e2/84/d54838032016039eef79df1137b91defaa6db068d825dfcdcd\n",
            "Successfully built simple-chalk\n",
            "Installing collected packages: simple-chalk\n",
            "Successfully installed simple-chalk-0.1.0\n"
          ]
        }
      ]
    },
    {
      "cell_type": "code",
      "source": [
        "from simple_chalk import chalk, yellow\n",
        "print(chalk.yellow(\"Hola en color amarillo\"))\n",
        "print(yellow(\"Hola :)\"))"
      ],
      "metadata": {
        "colab": {
          "base_uri": "https://localhost:8080/"
        },
        "id": "CMSWT6s9Kwv6",
        "outputId": "f8f70a3e-140c-4886-c0db-5aedbc26eb92"
      },
      "execution_count": 41,
      "outputs": [
        {
          "output_type": "stream",
          "name": "stdout",
          "text": [
            "\u001b[33mHola en color amarillo\u001b[0m\n",
            "\u001b[33mHola :)\u001b[0m\n"
          ]
        }
      ]
    },
    {
      "cell_type": "markdown",
      "source": [
        "# ¿Cómo escribo un módulo (biblioteca)?\n",
        "\n",
        "Se define en un archivo de biblioteca."
      ],
      "metadata": {
        "id": "_Rpn92uEO_-I"
      }
    },
    {
      "cell_type": "code",
      "source": [
        "!cat mi_modulo.py"
      ],
      "metadata": {
        "colab": {
          "base_uri": "https://localhost:8080/"
        },
        "id": "wMRMBa9nPPOP",
        "outputId": "adee1740-a858-4cc4-860c-1b9ec3455d17"
      },
      "execution_count": 43,
      "outputs": [
        {
          "output_type": "stream",
          "name": "stdout",
          "text": [
            "def sumar( a , b ):\r\n",
            "    return a + b\r\n",
            "\r\n",
            "def mi_print( texto , final ):\r\n",
            "    print(\"Super:\", text , end=final)\r\n",
            "\r\n",
            "    "
          ]
        }
      ]
    },
    {
      "cell_type": "code",
      "source": [
        "import mi_modulo\n",
        "\n",
        "res = mi_modulo.sumar( 7 , 5 )\n",
        "print(res)\n",
        "\n",
        "mi_modulo.mi_print(\"Jesus\",\"\\n\")"
      ],
      "metadata": {
        "colab": {
          "base_uri": "https://localhost:8080/"
        },
        "id": "q-1ATMtBQtUV",
        "outputId": "db108ae0-3d36-4818-fa00-e719766e8c07"
      },
      "execution_count": 1,
      "outputs": [
        {
          "output_type": "stream",
          "name": "stdout",
          "text": [
            "12\n",
            "Super: Jesus\n"
          ]
        }
      ]
    },
    {
      "cell_type": "code",
      "source": [
        "from mi_modulo import sumar , mi_print\n",
        "res = sumar( 5 , 3 )\n",
        "print(res)\n",
        "mi_print(\"Jesus\", \"\\n\")"
      ],
      "metadata": {
        "colab": {
          "base_uri": "https://localhost:8080/"
        },
        "id": "kA2K2yBIR8AY",
        "outputId": "f8a65e71-b514-437c-fd2a-9142c0ebafe6"
      },
      "execution_count": 4,
      "outputs": [
        {
          "output_type": "stream",
          "name": "stdout",
          "text": [
            "8\n",
            "Super: Jesus\n"
          ]
        }
      ]
    },
    {
      "cell_type": "markdown",
      "source": [
        "# Manejo de archivos con Pyhton3\n",
        "\n",
        "- Leer archivos\n",
        "- Escribir en archivos\n",
        "- Manipular la información leída desde un archivo\n",
        "- Formatos de archivo"
      ],
      "metadata": {
        "id": "qXuk2NDaSozT"
      }
    },
    {
      "cell_type": "code",
      "source": [
        "archivo = open(\"salida.txt\" , \"wt\" )\n",
        "archivo.write(\"Hola mundo\")\n",
        "archivo.close()"
      ],
      "metadata": {
        "id": "oCAtvniUS3a-"
      },
      "execution_count": 10,
      "outputs": []
    },
    {
      "cell_type": "code",
      "source": [
        "!cat salida.txt"
      ],
      "metadata": {
        "colab": {
          "base_uri": "https://localhost:8080/"
        },
        "id": "II9a08cyTOR9",
        "outputId": "4d683424-df0f-475e-d33b-b09f02be874c"
      },
      "execution_count": 11,
      "outputs": [
        {
          "output_type": "stream",
          "name": "stdout",
          "text": [
            "Hola mundo"
          ]
        }
      ]
    }
  ]
}