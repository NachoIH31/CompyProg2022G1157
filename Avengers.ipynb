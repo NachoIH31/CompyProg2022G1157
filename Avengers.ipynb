{
  "nbformat": 4,
  "nbformat_minor": 0,
  "metadata": {
    "colab": {
      "name": "Avengers.ipynb",
      "provenance": [],
      "authorship_tag": "ABX9TyO7+JiTx7whJpKYu06w9/lC",
      "include_colab_link": true
    },
    "kernelspec": {
      "name": "python3",
      "display_name": "Python 3"
    },
    "language_info": {
      "name": "python"
    }
  },
  "cells": [
    {
      "cell_type": "markdown",
      "metadata": {
        "id": "view-in-github",
        "colab_type": "text"
      },
      "source": [
        "<a href=\"https://colab.research.google.com/github/NachoIH31/CompyProg2022G1157/blob/main/Avengers.ipynb\" target=\"_parent\"><img src=\"https://colab.research.google.com/assets/colab-badge.svg\" alt=\"Open In Colab\"/></a>"
      ]
    },
    {
      "cell_type": "code",
      "metadata": {
        "id": "XxqlhhXGMDbN"
      },
      "source": [
        "MCU Superhéroes = { \"Vengadores\" : [Ironman, Capitán América, Hulk, Hawkeye, Black Widow],\n",
        "                    \"Guardianes de la galaxia\" : [Star Lord, Drax, Rocket, Groot, Gamora],\n",
        "                    \"Eternos\": [Ikaris, Thena, Ajak, Phastos, Kingo Sunen, Makkari, Sprite],\n",
        "                    \"Hechiceros supremos\" : [Doctor Strange, Wong, Ancestral]\n",
        "                    \"Asgradianos\" : [Thor, Odin, Loki]\n",
        "    \n",
        "}"
      ],
      "execution_count": null,
      "outputs": []
    }
  ]
}