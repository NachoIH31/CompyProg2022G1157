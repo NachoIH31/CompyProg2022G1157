{
  "nbformat": 4,
  "nbformat_minor": 0,
  "metadata": {
    "colab": {
      "name": "Ejemplo 2.12.ipynb",
      "provenance": [],
      "authorship_tag": "ABX9TyNzFEdx5G909DD09g/Q9E5r",
      "include_colab_link": true
    },
    "kernelspec": {
      "name": "python3",
      "display_name": "Python 3"
    },
    "language_info": {
      "name": "python"
    }
  },
  "cells": [
    {
      "cell_type": "markdown",
      "metadata": {
        "id": "view-in-github",
        "colab_type": "text"
      },
      "source": [
        "<a href=\"https://colab.research.google.com/github/NachoIH31/CompyProg2022G1157/blob/main/Ejemplo_2_12.ipynb\" target=\"_parent\"><img src=\"https://colab.research.google.com/assets/colab-badge.svg\" alt=\"Open In Colab\"/></a>"
      ]
    },
    {
      "cell_type": "code",
      "metadata": {
        "id": "LRac6hjCM34q"
      },
      "source": [
        "# Ejemplo 2.12\n",
        "\n",
        "A = int(input(\"Ingresa un número entero: \"))\n",
        "B = int(input(\"Ingresa un número entero diferente: \"))\n",
        "C = int(input(\"Ingresa un número entero diferente a los anteriores: \"))\n",
        "\n",
        "if A != B and A != C and B != C:\n",
        "    if A > B:\n",
        "        if A > C:\n",
        "            if B > C:\n",
        "                print(A, B, C)\n",
        "            else:\n",
        "                print(A, C, B)\n",
        "        else:\n",
        "            print(C, A, B)\n",
        "    else:\n",
        "        if B > C:\n",
        "            if A > C:\n",
        "                print(B, A, C)\n",
        "            else:\n",
        "                print(B, C, A)\n",
        "        else:\n",
        "            print(C, B, A)\n",
        "else:\n",
        "    print(\"FIN DEL PROGRAMA\") "
      ],
      "execution_count": null,
      "outputs": []
    }
  ]
}