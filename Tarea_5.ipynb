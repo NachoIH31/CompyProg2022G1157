{
  "nbformat": 4,
  "nbformat_minor": 0,
  "metadata": {
    "colab": {
      "name": "Tarea 5.ipynb",
      "provenance": [],
      "authorship_tag": "ABX9TyN7dTuq7kKJeRx46c0QTS+X",
      "include_colab_link": true
    },
    "kernelspec": {
      "name": "python3",
      "display_name": "Python 3"
    },
    "language_info": {
      "name": "python"
    }
  },
  "cells": [
    {
      "cell_type": "markdown",
      "metadata": {
        "id": "view-in-github",
        "colab_type": "text"
      },
      "source": [
        "<a href=\"https://colab.research.google.com/github/NachoIH31/CompyProg2022G1157/blob/main/Tarea_5.ipynb\" target=\"_parent\"><img src=\"https://colab.research.google.com/assets/colab-badge.svg\" alt=\"Open In Colab\"/></a>"
      ]
    },
    {
      "cell_type": "markdown",
      "metadata": {
        "id": "lfiG33Pe7Txz"
      },
      "source": [
        "# Programa 1\n",
        "\n",
        "Hacer un programa que\n",
        "pida dos números enteros y que imprima en pantalla lo siguiente:\n",
        "\n",
        "- ¿Cuál de ellos es el número mayor?\n",
        "- ¿Cuál de ellos es el número menor?\n",
        "- O en su defecto imprimir que los valores son iguales"
      ]
    },
    {
      "cell_type": "code",
      "metadata": {
        "colab": {
          "base_uri": "https://localhost:8080/"
        },
        "id": "sGXDvn1k6hMu",
        "outputId": "c20e6deb-8bca-40a7-ad51-ad1a49c0dd25"
      },
      "source": [
        "# Programa 1\n",
        "\n",
        "numero1 = int(input(\"Ingresa un número entero: \"))\n",
        "print(f\"Capturaste el número: {numero1}\")\n",
        "numero2 = int(input(\"Ingresa otro número entero: \"))\n",
        "print(f\"Capturaste el número: {numero2}\")\n",
        "\n",
        "if numero1 > numero2:\n",
        "    print(f\"{numero1} es mayor que {numero2}\")\n",
        "    print(f\"{numero2} es menor que {numero1}\")\n",
        "elif numero1 < numero2:\n",
        "    print(f\"{numero1} es menor que {numero2}\")\n",
        "    print(f\"{numero2} es mayor que {numero1}\")\n",
        "else:\n",
        "    print(f\"{numero1} es igual que {numero2}\")"
      ],
      "execution_count": 85,
      "outputs": [
        {
          "output_type": "stream",
          "name": "stdout",
          "text": [
            "Ingresa un número entero: 55\n",
            "Capturaste el número: 55\n",
            "Ingresa otro número entero: 55\n",
            "Capturaste el número: 55\n",
            "55 es igual que 55\n"
          ]
        }
      ]
    },
    {
      "cell_type": "markdown",
      "metadata": {
        "id": "RUxrmjH68DcG"
      },
      "source": [
        "# Programa 2\n",
        "\n",
        "Hacer un programa que solicite 3 números enteros diferentes entre sí y que imprima cuál de los 3 es el mayor.\n"
      ]
    },
    {
      "cell_type": "code",
      "metadata": {
        "colab": {
          "base_uri": "https://localhost:8080/"
        },
        "id": "NCf8I4mK8PIj",
        "outputId": "623b2b0d-8fdc-4330-87b4-f8213b766923"
      },
      "source": [
        "# Programa 2\n",
        "\n",
        "numero1 = int(input(\"Ingresa un número entero: \"))\n",
        "print(f\"Capturaste el número: {numero1}\")\n",
        "numero2 = int(input(\"Ingresa un número entero diferente al anterior: \"))\n",
        "print(f\"Capturaste el número: {numero2}\")\n",
        "numero3 = int(input(\"Ingresa otro número entero diferente a los dos números anteriores: \")) \n",
        "print(f\"Capturaste el número: {numero3}\")\n",
        "\n",
        "if numero1 > numero2 and numero2 == numero3:\n",
        "    print(\"Los números deben ser diferentes entre sí\")\n",
        "elif numero2 > numero1 and numero1 == numero3:\n",
        "    print(\"Los números deben ser diferentes entre sí\")\n",
        "elif numero3 > numero1 and numero1 == numero2:\n",
        "    print(\"Los números deben ser diferentes entre sí\")\n",
        "elif numero1 > numero2 and numero1 > numero3:\n",
        "    print(f\"{numero1} es mayor que {numero2} y {numero3}\")\n",
        "elif numero2 > numero1 and numero2 > numero3:\n",
        "    print(f\"{numero2} es mayor que {numero1} y {numero3}\")\n",
        "elif numero3 > numero1 and numero3 > numero2:\n",
        "    print(f\"{numero3} es mayor que {numero1} y {numero2}\")\n",
        "else:\n",
        "    print(\"Los números deben ser diferentes entre sí\")"
      ],
      "execution_count": 82,
      "outputs": [
        {
          "output_type": "stream",
          "name": "stdout",
          "text": [
            "Ingresa un número entero: 789\n",
            "Capturaste el número: 789\n",
            "Ingresa un número entero diferente al anterior: 675\n",
            "Capturaste el número: 675\n",
            "Ingresa otro número entero diferente a los dos números anteriores: 908\n",
            "Capturaste el número: 908\n",
            "908 es mayor que 789 y 675\n"
          ]
        }
      ]
    },
    {
      "cell_type": "markdown",
      "metadata": {
        "id": "mY_BUzCAMTyu"
      },
      "source": [
        "# Programa 3\n",
        "\n",
        "Hacer un programa que solicite 3 números enteros diferentes entre sí y que imprima cuál de los 3 es el menor."
      ]
    },
    {
      "cell_type": "code",
      "metadata": {
        "colab": {
          "base_uri": "https://localhost:8080/"
        },
        "id": "Xsw-jw3-MfWp",
        "outputId": "ef616863-a038-4d44-e56d-7be62e4c2286"
      },
      "source": [
        "# Programa 3\n",
        "\n",
        "numero1 = int(input(\"Ingresa un número entero: \"))\n",
        "print(f\"Capturaste el número: {numero1}\")\n",
        "numero2 = int(input(\"Ingresa un número entero diferente al anterior: \"))\n",
        "print(f\"Capturaste el número: {numero2}\")\n",
        "numero3 = int(input(\"Ingresa otro número entero diferente a los dos números anteriores: \")) \n",
        "print(f\"Capturaste el número: {numero3}\")\n",
        "\n",
        "if numero1 < numero2 and numero2 == numero3:\n",
        "    print(\"Los números deben ser diferentes entre sí\")\n",
        "elif numero2 < numero1 and numero1 == numero3:\n",
        "    print(\"Los números deben ser diferentes entre sí\")\n",
        "elif numero3 < numero1 and numero1 == numero2:\n",
        "    print(\"Los números deben ser diferentes entre sí\")\n",
        "elif numero1 < numero2 and numero1 < numero3:\n",
        "    print(f\"{numero1} es menor que {numero2} y {numero3}\")\n",
        "elif numero2 < numero1 and numero2 < numero3:\n",
        "    print(f\"{numero2} es menor que {numero1} y {numero3}\")\n",
        "elif numero3 < numero1 and numero3 < numero2:\n",
        "    print(f\"{numero3} es menor que {numero1} y {numero2}\")\n",
        "else:\n",
        "    print(\"Los números deben ser diferentes entre sí\")"
      ],
      "execution_count": 81,
      "outputs": [
        {
          "output_type": "stream",
          "name": "stdout",
          "text": [
            "Ingresa un número entero: 89\n",
            "Capturaste el número: 89\n",
            "Ingresa un número entero diferente al anterior: 578\n",
            "Capturaste el número: 578\n",
            "Ingresa otro número entero diferente a los dos números anteriores: 23\n",
            "Capturaste el número: 23\n",
            "23 es menor que 89 y 578\n"
          ]
        }
      ]
    },
    {
      "cell_type": "markdown",
      "metadata": {
        "id": "WPs5CTf_NZDt"
      },
      "source": [
        "# Programa 4\n",
        "\n",
        "Hacer un programa que solicite 4 números enteros diferentes entre sí y que imprima a la salida cuál de ellos es el mayor y cuál de ellos es el menor."
      ]
    },
    {
      "cell_type": "code",
      "metadata": {
        "colab": {
          "base_uri": "https://localhost:8080/"
        },
        "id": "5YqsSQT5Q-fW",
        "outputId": "2dfd17ae-042b-4b02-e19d-8b94e07cebd0"
      },
      "source": [
        "# Programa 4 (Solución 1)\n",
        "\n",
        "numero1 = int(input(\"Ingresa un número entero: \"))\n",
        "print(f\"Capturaste el número: {numero1}\")\n",
        "numero2 = int(input(\"Ingresa un número entero diferente al anterior: \"))\n",
        "print(f\"Capturaste el número: {numero2}\")\n",
        "numero3 = int(input(\"Ingresa un número entero diferente a los dos números anteriores: \"))\n",
        "print(f\"Capturaste el número: {numero3}\")\n",
        "numero4 = int(input(\"Ingresa otro número entero diferente a los tres números anteriores: \"))\n",
        "print(f\"Capturaste el número: {numero4}\")\n",
        "\n",
        "serie = [numero1, numero2, numero3, numero4]\n",
        "\n",
        "if numero1 != numero2 and numero1 != numero3 and numero1 != numero4 and numero2 != numero3 and numero2 != numero4 and numero3 != numero4:\n",
        "    print(\"El número mayor es:\", max-(serie))\n",
        "    print(\"El número menor es:\", min(serie))\n",
        "else:\n",
        "    print(\"Los números deben ser diferentes entre sí\")"
      ],
      "execution_count": 80,
      "outputs": [
        {
          "output_type": "stream",
          "name": "stdout",
          "text": [
            "Ingresa un número entero: 98\n",
            "Capturaste el número: 98\n",
            "Ingresa un número entero diferente al anterior: 157\n",
            "Capturaste el número: 157\n",
            "Ingresa un número entero diferente a los dos números anteriores: 76\n",
            "Capturaste el número: 76\n",
            "Ingresa otro número entero diferente a los tres números anteriores: -56\n",
            "Capturaste el número: -56\n",
            "El número mayor es: 157\n",
            "El número menor es: -56\n"
          ]
        }
      ]
    },
    {
      "cell_type": "code",
      "metadata": {
        "colab": {
          "base_uri": "https://localhost:8080/"
        },
        "id": "jkL00LoWy8Dp",
        "outputId": "0046859f-7416-464a-8fc7-d39057ef0a70"
      },
      "source": [
        "# Programa 4 (Solución 2)\n",
        "\n",
        "a = int(input(\"Ingresa un número entero: \"))\n",
        "print(f\"Capturaste el número: {a}\")\n",
        "b = int(input(\"Ingresa un número entero diferente al anterior: \"))\n",
        "print(f\"Capturaste el número: {b}\")\n",
        "c = int(input(\"Ingresa un número entero diferente a los dos números anteriores: \"))\n",
        "print(f\"Capturaste el número: {c}\")\n",
        "d = int(input(\"Ingresa otro número entero diferente a los tres números anteriores: \"))\n",
        "print(f\"Capturaste el número: {d}\")\n",
        "\n",
        "if a != b and a != c and a != d and b != c and b != d and c != d:\n",
        "    if  a > b:\n",
        "        if a > c:\n",
        "            if a > d:\n",
        "                if b > c:\n",
        "                    if b > d:\n",
        "                        if c > d:\n",
        "                            print(f\"{a} es mayor que {b}, {c} y {d}\")\n",
        "                            print(f\"{d} es menor que {a}, {b} y {c}\")\n",
        "                        else:\n",
        "                            print(f\"{a} es mayor que {b}, {c} y {d}\")\n",
        "                            print(f\"{c} es menor que {a}, {b} y {d}\")\n",
        "                    else:\n",
        "                        print(f\"{a} es mayor que {b}, {c} y {d}\")\n",
        "                        print(f\"{c} es menor que {a}, {b} y {d}\")\n",
        "                else:\n",
        "                    if c > d:\n",
        "                        if b > d:\n",
        "                            print(f\"{a} es mayor que {b}, {c} y {d}\")\n",
        "                            print(f\"{d} es menor que {a}, {b} y {c}\")\n",
        "                        else:\n",
        "                            print(f\"{a} es mayor que {b}, {c} y {d}\")\n",
        "                            print(f\"{b} es menor que {a}, {c} y {d}\")\n",
        "                    else:\n",
        "                        print(f\"{a} es mayor que {b}, {c} y {d}\")\n",
        "                        print(f\"{b} es menor que {a}, {c} y {d}\")\n",
        "            else:\n",
        "                if b > c:\n",
        "                    print(f\"{d} es mayor que {a}, {b} y {c}\")\n",
        "                    print(f\"{c} es menor que {a}, {b} y {d}\")\n",
        "                else:\n",
        "                    print(f\"{d} es mayor que {a}, {b} y {c}\")\n",
        "                    print(f\"{b} es menor que {a}, {c} y {d}\")\n",
        "        else:\n",
        "            if c > d:\n",
        "                if b > d:\n",
        "                    print(f\"{c} es mayor que {a}, {b} y {d}\")\n",
        "                    print(f\"{d} es menor que {a}, {b} y {c}\")\n",
        "                else:\n",
        "                    print(f\"{c} es mayor que {a}, {b} y {d}\")\n",
        "                    print(f\"{b} es menor que {a}, {c} y {d}\")\n",
        "            else:\n",
        "                print(f\"{d} es mayor que {a}, {b} y {c}\")\n",
        "                print(f\"{b} es menor que {a}, {c} y {d}\")\n",
        "    else:\n",
        "        if b > c:\n",
        "            if b > d:\n",
        "                if a > c:\n",
        "                    if a > d:\n",
        "                        if c > d:\n",
        "                            print(f\"{b} es mayor que {a}, {c} y {d}\")\n",
        "                            print(f\"{d} es menor que {a}, {b} y {c}\")\n",
        "                        else:\n",
        "                            print(f\"{b} es mayor que {a}, {c} y {d}\")\n",
        "                            print(f\"{c} es menor que {a}, {b} y {d}\")\n",
        "                    else:\n",
        "                        print(f\"{b} es mayor que {a}, {c} y {d}\")\n",
        "                        print(f\"{c} es menor que {a}, {b} y {d}\")\n",
        "                else:\n",
        "                    if c > d:\n",
        "                        if a > d:\n",
        "                            print(f\"{b} es mayor que {a}, {c} y {d}\")\n",
        "                            print(f\"{d} es menor que {a}, {b} y {c}\")\n",
        "                        else:\n",
        "                            print(f\"{b} es mayor que {a}, {c} y {d}\")\n",
        "                            print(f\"{a} es menor que {b}, {c} y {d}\")\n",
        "                    else:\n",
        "                        print(f\"{b} es mayor que {a}, {c} y {d}\")\n",
        "                        print(f\"{a} es menor que {b}, {c} y {d}\")\n",
        "            else:\n",
        "                if a > c:\n",
        "                    print(f\"{d} es mayor que {a}, {b} y {c}\")\n",
        "                    print(f\"{c} es menor que {a}, {b} y {d}\")\n",
        "                else:\n",
        "                    print(f\"{d} es mayor que {a}, {b} y {c}\")\n",
        "                    print(f\"{a} es menor que {b}, {c} y {d}\")\n",
        "        else:\n",
        "            if c > d:\n",
        "                if a > d:\n",
        "                    print(f\"{c} es mayor que {a}, {b} y {d}\")\n",
        "                    print(f\"{d} es menor que {a}, {b} y {c}\")\n",
        "                else:\n",
        "                    print(f\"{c} es mayor que {a}, {b} y {d}\")\n",
        "                    print(f\"{a} es menor que {b}, {c} y {d}\")\n",
        "            else:\n",
        "                print(f\"{d} es mayor que {a}, {b} y {c}\")\n",
        "                print(f\"{a} es menor que {b}, {c} y {d}\")\n",
        "else:\n",
        "    print(\"Los números deben ser diferentes entre sí\")"
      ],
      "execution_count": 78,
      "outputs": [
        {
          "output_type": "stream",
          "name": "stdout",
          "text": [
            "Ingresa un número entero: -98\n",
            "Capturaste el número: -98\n",
            "Ingresa un número entero diferente al anterior: 78\n",
            "Capturaste el número: 78\n",
            "Ingresa un número entero diferente a los dos números anteriores: 64\n",
            "Capturaste el número: 64\n",
            "Ingresa otro número entero diferente a los tres números anteriores: -8\n",
            "Capturaste el número: -8\n",
            "78 es mayor que -98, 64 y -8\n",
            "-98 es menor que 78, 64 y -8\n"
          ]
        }
      ]
    }
  ]
}