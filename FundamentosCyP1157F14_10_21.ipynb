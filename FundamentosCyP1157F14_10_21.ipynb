{
  "nbformat": 4,
  "nbformat_minor": 0,
  "metadata": {
    "colab": {
      "name": "FundamentosCyP1157F14/10/21.ipynb",
      "provenance": [],
      "authorship_tag": "ABX9TyPYXhtj7erCYwDE1Lu3jEwr",
      "include_colab_link": true
    },
    "kernelspec": {
      "name": "python3",
      "display_name": "Python 3"
    },
    "language_info": {
      "name": "python"
    }
  },
  "cells": [
    {
      "cell_type": "markdown",
      "metadata": {
        "id": "view-in-github",
        "colab_type": "text"
      },
      "source": [
        "<a href=\"https://colab.research.google.com/github/NachoIH31/CompyProg2022G1157/blob/main/FundamentosCyP1157F14_10_21.ipynb\" target=\"_parent\"><img src=\"https://colab.research.google.com/assets/colab-badge.svg\" alt=\"Open In Colab\"/></a>"
      ]
    },
    {
      "cell_type": "code",
      "metadata": {
        "colab": {
          "base_uri": "https://localhost:8080/"
        },
        "id": "PYoMrffyWAAu",
        "outputId": "866beb1a-4921-4a22-8fa0-651c2a9de1f7"
      },
      "source": [
        "nombre = 'José' # Tipo de dato String (cadena de caracteres)\n",
        "\n",
        "print( nombre)"
      ],
      "execution_count": null,
      "outputs": [
        {
          "output_type": "stream",
          "name": "stdout",
          "text": [
            "José\n"
          ]
        }
      ]
    },
    {
      "cell_type": "markdown",
      "metadata": {
        "id": "reWPpz1YXcGU"
      },
      "source": [
        "#Tipos de datos en Python\n",
        "\n",
        "### Tipos simples\n",
        "- str --> String cadena de caracteres\n",
        "- int --> Numeros enteros\n",
        "- float --> Nuemeros con notación de punto flotante\n",
        "- complex --> Numeros completos\n",
        "- bool --> Booleano ( True o False)\n",
        "- byte --> 8 bits\n",
        "\n",
        "### Tipos de datos estructurados (compuestos)\n",
        "\n",
        "- list --> Listas (Arreglos en otros leng)\n",
        "- tuple --> Listas no mutables\n",
        "- dict --> Diccionarios\n",
        "- set y frozenset --> Conjuntos\n"
      ]
    },
    {
      "cell_type": "code",
      "metadata": {
        "colab": {
          "base_uri": "https://localhost:8080/"
        },
        "id": "mMGjSoiDaXfL",
        "outputId": "729da37e-8e3c-4dff-f572-5309923b9ed7"
      },
      "source": [
        "import sys\n",
        "\n",
        "edad = 19\n",
        "print( \"Tu edad es:\" ,edad ) # al final de una línea de código\n",
        "# este es un comentario de linea simple\n",
        "\n",
        "\"\"\"\n",
        "Comentario de múltiple línea\n",
        "En lenguaje C, C++ y Java el comentario de múltiple línea es con:\n",
        "\n",
        "/* .....  */\n",
        "\n",
        "En lenguaje C, C++ y Java el comentario de múltiple línea es con\n",
        "\n",
        "//\n",
        "\n",
        "Aquí puedes explicar en prosa el segmento de un código para futura\n",
        "\n",
        "\"\"\"\n",
        "# tipos de dato numerico int y float\n",
        "\n",
        "print (sys.getsizeof(edad) )\n",
        "# el tipo de dato INT utiliza diferente cantiad de bits segun el \n",
        "# leng de prog. por ejemplo en C utiliza 16 bits.\n",
        "\n",
        "edad = edad + 1\n",
        "print( edad)\n",
        "\n",
        "estatura = 1.56\n",
        "print( estatura )\n",
        "print( sys.getsizeof(estatura) )\n",
        "estatura = estatura + 0.1\n",
        "print( estatura )\n",
        "print( round(estatura,2) )\n",
        "\n",
        "edad += 1 # edad = edad + 1\n",
        "print( \"Tu edad es:\" ,edad )\n",
        "\n",
        "edad -= 1 # edad = edad - 1\n",
        "print( \"Tu edad es:\" ,edad )\n",
        "\n",
        "edad += 1 # vuelve a 21\n",
        "edad /= 2 # edad = edad / 2\n",
        "print( \"La mitad de tu edad es:\" ,edad )\n",
        "\n",
        "\n",
        "edad = 21\n",
        "# volver a calcular la mitad de la edad pero sólo dejar\n",
        "# parte entera\n",
        "edad = edad // 2\n",
        "print( \"La mitad de tu edad es:\",edad )\n",
        "\n",
        "# En la mayoría de los leng no permiten operaciones entre\n",
        "# diferentes tipos de datos, en Python no es el caso\n",
        "\n",
        "numero = edad / 2.0\n",
        "print( numero )\n",
        "\n",
        "numero = numero * 3 # (*=) para simplificar la operación\n",
        "print( numero )\n",
        "\n",
        "numero = 5.0\n",
        "numero = numero ** 2\n",
        "print( numero )\n",
        "\n"
      ],
      "execution_count": null,
      "outputs": [
        {
          "output_type": "stream",
          "name": "stdout",
          "text": [
            "Tu edad es: 19\n",
            "28\n",
            "20\n",
            "1.56\n",
            "24\n",
            "1.6600000000000001\n",
            "1.66\n",
            "Tu edad es: 21\n",
            "Tu edad es: 20\n",
            "La mitad de tu edad es: 10.5\n",
            "La mitad de tu edad es: 10\n",
            "5.0\n",
            "15.0\n",
            "25.0\n",
            "10.5\n"
          ]
        }
      ]
    },
    {
      "cell_type": "markdown",
      "metadata": {
        "id": "t-EUCZs_jVuS"
      },
      "source": [
        "# Tarea\n",
        "Hacer un resumen de mínimo 1 cuartilla de los orígenes del Lenuguaje Python.\n",
        "\n",
        "- ¿Por qué de su creación?\n",
        "- Características principales.\n",
        "- Diferencias con otros leng.\n",
        "\n",
        "Forma de entrega: A mano en un cuadern, sacarle foto (Scaner) y subir la foto."
      ]
    },
    {
      "cell_type": "code",
      "metadata": {
        "colab": {
          "base_uri": "https://localhost:8080/"
        },
        "id": "2CZQFwD1lujz",
        "outputId": "a387f665-9006-412d-ce51-45770499e240"
      },
      "source": [
        "# Operador módulo\n",
        "numero = 21\n",
        "print( numero / 2)\n",
        "print( numero // 2)\n",
        "\n",
        "# El operador módulo da como resultado el residuo de una división entera\n",
        "print( numero % 2)\n",
        "\n",
        "numero = 24\n",
        "print(\"residuo de 24 / 5:\", numero % 5)\n",
        "\n",
        "# operadores relacionales (lógicos)\n",
        "print(\"24 es par? =\",numero % 2 == 0)\n",
        "\n",
        "# diferencia\n",
        "print(\"24 es diferente de 23=\" ,numero != 23 )\n",
        "print( \"24 es mayor que 23=\",numero > 23 )\n",
        "print( \"24 es menor que 23=\",numero < 23 )\n",
        "\n",
        "print( \"24 es mayor o igual que 24=\",numero >= 24 )\n",
        "print( \"24 es menor o igual que=\",numero <= 23 )\n",
        "\n",
        "print(\"El tipo de dato de la variable numero es:\", type(numero) )\n",
        "print(\"El tipo de dato de la variable numero / 2.0 es:\", type(numero/2.0) )\n"
      ],
      "execution_count": null,
      "outputs": [
        {
          "output_type": "stream",
          "name": "stdout",
          "text": [
            "10.5\n",
            "10\n",
            "1\n",
            "residuo de 24 / 5: 4\n",
            "24 es par? = True\n",
            "24 es diferente de 23= True\n",
            "24 es mayor que 23= True\n",
            "24 es menor que 23= False\n",
            "24 es mayor o igual que 24= True\n",
            "24 es menor o igual que= False\n",
            "El tipo de dato de la variable numero es: <class 'int'>\n",
            "El tipo de dato de la variable numero / 2.0 es: <class 'float'>\n"
          ]
        }
      ]
    },
    {
      "cell_type": "markdown",
      "metadata": {
        "id": "gGFimgNWpg1v"
      },
      "source": [
        "# Tipo de dato String (str) en Python\n",
        "\n",
        "- Se maneja como un arreglo (tipo de datocompuesto)\n",
        "- Se puede acceder a los elementos de el Sting por medio del índice del caracter.\n",
        "- Mutable\n",
        "- Tiene métodos útiles (potentes)\n",
        "- Slicing"
      ]
    },
    {
      "cell_type": "code",
      "metadata": {
        "colab": {
          "base_uri": "https://localhost:8080/"
        },
        "id": "BZm04dLQqE5f",
        "outputId": "86a985b2-fc79-4c37-b7f2-320de6a96c2d"
      },
      "source": [
        "nombre = 'José'\n",
        "carrera = \"Ingeniería en computación\"\n",
        "frase = \"\"\" El conocimiento\n",
        "me persigue,...\n",
        "pero\n",
        "yo soy más rápido\n",
        "\"\"\"\n",
        "print( nombre )\n",
        "print( carrera )\n",
        "print( frase )\n",
        "\n",
        "# La función type de Python te devuelve el tipo de dato de una variable ( o e)\n",
        "print( type(nombre) )\n",
        "\n",
        "paterno = str( \"Pérez\" )\n",
        "print( paterno )"
      ],
      "execution_count": null,
      "outputs": [
        {
          "output_type": "stream",
          "name": "stdout",
          "text": [
            "José\n",
            "Ingeniería en computación\n",
            " El conocimiento\n",
            "me persigue,...\n",
            "pero\n",
            "yo soy más rápido\n",
            "\n",
            "<class 'str'>\n",
            "Pérez\n"
          ]
        }
      ]
    },
    {
      "cell_type": "markdown",
      "metadata": {
        "id": "P6AnRSzjpgDI"
      },
      "source": [
        "# Una clase de (class) es un tipo de dato compuesto."
      ]
    },
    {
      "cell_type": "code",
      "metadata": {
        "colab": {
          "base_uri": "https://localhost:8080/"
        },
        "id": "fHPS1Zrmpgg8",
        "outputId": "269c364c-f9b6-4abf-afa8-673f417a010d"
      },
      "source": [
        "carrera = \"Ingeniería en computación\"\n",
        "print( carrera )\n",
        "print( carrera[2] )\n"
      ],
      "execution_count": 2,
      "outputs": [
        {
          "output_type": "stream",
          "name": "stdout",
          "text": [
            "Ingeniería en computación\n",
            "g\n"
          ]
        }
      ]
    },
    {
      "cell_type": "markdown",
      "metadata": {
        "id": "-DDRKPYlrotN"
      },
      "source": [
        "# A la sintaxis escrita para elegir un elemento de un grupo de datos se le llama selector\n",
        "En el caso de Stings y listas (lst)\n",
        "se usas los caracteres '[' y ']'\n",
        "\n",
        "1. En todos los lenguajes los arreglos inician en 0.\n",
        "2. En Python no existe como tal el tipo de arreglo, el concepto es sustituido por las listas.\n",
        "3. Los strings se comportan como un arreglo en la mayoría de los lenguajes.\n",
        "4. En Python se acepta el indexado negativo, en otros lenguajes NO."
      ]
    },
    {
      "cell_type": "code",
      "metadata": {
        "colab": {
          "base_uri": "https://localhost:8080/"
        },
        "id": "j3aY6n93sg7K",
        "outputId": "57cd4a3f-6d57-4a55-d11b-0ff7dd8bd32b"
      },
      "source": [
        "carrera = \"Ingeniería en computación\"\n",
        "print( carrera[8] )\n",
        "print( carrera[24] )\n",
        "print( carrera[-1] )\n",
        "print( carrera[-25] )\n",
        "\n",
        "# Adelnatando el tema ciclo FOR\n",
        "\n",
        "for letra in carrera:\n",
        "    print( \"-->\",letra ,\"<--\" )\n",
        "\n",
        "    \n"
      ],
      "execution_count": 12,
      "outputs": [
        {
          "output_type": "stream",
          "name": "stdout",
          "text": [
            "í\n",
            "n\n",
            "n\n",
            "I\n",
            "--> I <--\n",
            "--> n <--\n",
            "--> g <--\n",
            "--> e <--\n",
            "--> n <--\n",
            "--> i <--\n",
            "--> e <--\n",
            "--> r <--\n",
            "--> í <--\n",
            "--> a <--\n",
            "-->   <--\n",
            "--> e <--\n",
            "--> n <--\n",
            "-->   <--\n",
            "--> c <--\n",
            "--> o <--\n",
            "--> m <--\n",
            "--> p <--\n",
            "--> u <--\n",
            "--> t <--\n",
            "--> a <--\n",
            "--> c <--\n",
            "--> i <--\n",
            "--> ó <--\n",
            "--> n <--\n"
          ]
        }
      ]
    },
    {
      "cell_type": "markdown",
      "metadata": {
        "id": "Yw4FfdOsu7-6"
      },
      "source": [
        "# Slicing (rebanado) de cadenas\n",
        "\n",
        "Permite seleccionar subcadenas con el operador\n",
        "\n",
        "[inicio:stop:incremento]\n",
        "\n",
        "El stop no se incluye, es por eso que debemos agregar una posición extra.\n",
        "\n",
        "### Slicing y valores por defecto\n",
        "\n",
        "Inicio: por defecto siempre será 0\n",
        "\n",
        "Stop: Tamaño del arreglo (indexado positivo) 0 ( en un indexado negativo)\n",
        "\n",
        "Incremento: es 1 (indexado positivo)"
      ]
    },
    {
      "cell_type": "code",
      "metadata": {
        "colab": {
          "base_uri": "https://localhost:8080/"
        },
        "id": "nSsKPju-va_L",
        "outputId": "1bec3dd0-beea-40d6-f8b0-b5e4160121a9"
      },
      "source": [
        "carrera = \"Ingeniería en computación\"\n",
        "print( carrera[0:10:1] )\n",
        "print( carrera[14:25:1] )\n",
        "# lo mismo pero con indexado negativo\n",
        "print( carrera[-11:-1:1] )\n",
        "print( carrera[:10:] )\n",
        "print( carrera[14:25:] )\n",
        "print( carrera[-11: :1] )\n",
        "\n",
        "# SOLUCIÓN PREVIA\n",
        "print( \"-----------\")\n",
        "print( carrera[-11:-1:1] )\n",
        "print( carrera[-11: :1] )\n",
        "\n",
        "# un ejercico más para ver incremento\n",
        "print( carrera[0:10:2] )\n",
        "print( carrera[-1:-12:-1])\n",
        "print( carrera[25:13:-1])"
      ],
      "execution_count": 25,
      "outputs": [
        {
          "output_type": "stream",
          "name": "stdout",
          "text": [
            "Ingeniería\n",
            "computación\n",
            "computació\n",
            "Ingeniería\n",
            "computación\n",
            "computación\n",
            "-----------\n",
            "computació\n",
            "computación\n",
            "Igneí\n",
            "nóicatupmoc\n",
            "nóicatupmoc\n"
          ]
        }
      ]
    },
    {
      "cell_type": "markdown",
      "metadata": {
        "id": "wAOPN_aR0mAa"
      },
      "source": [
        "# String y sus métodos\n",
        "# Todos los tipos de datos en Python son objetos (CLAES de la POO)\n",
        "### Lo cual significa que tiene atributos y métodos\n",
        "\n",
        "## dir() y help() funciones para obtener ayuda del lenguaje Python\n",
        "\n",
        "### dir muestra las funciones de un tipo de dato como resumen.\n",
        "\n",
        "### help muestra la misma ayuda pero con detalle.\n",
        "\n",
        "Métodos que inician con doble guión bajo son privados de uso interno de la clase y no deberíamos usarlos\n",
        "\n",
        "Todos los demás son para uso exterior ( usuario)"
      ]
    },
    {
      "cell_type": "code",
      "metadata": {
        "colab": {
          "base_uri": "https://localhost:8080/"
        },
        "id": "88KPdkjD08iU",
        "outputId": "2967a6b0-8d67-4fc5-acbb-fa5f6d1009a2"
      },
      "source": [
        "frutas = \"  limón , fresa,  manzana  , aguacate  \"\n",
        "nombre = \"jose\"\n",
        "print(frutas)\n",
        "dir(frutas)\n",
        "\n",
        "\n",
        "print( nombre.capitalize() )\n",
        "print( nombre.upper() )\n",
        "print( frutas.replace( 'a' , '4' ).replace( 'e' , '3' ).upper() )\n",
        "frutas = frutas.replace( 'a' , '4' ).replace( 'e' , '3' ).upper() \n",
        "print(frutas)\n",
        "print(\"-.-.-.-.-.-.-.-.-.-.-.-.-.-.-.-.-.-.-\")\n",
        "frutas = \"  limón , fresa,  manzana  , aguacate  \"\n",
        "print( frutas.strip() )\n",
        "print( frutas.split( ',' ) )\n",
        "print(frutas.index(\"n\"))\n"
      ],
      "execution_count": 47,
      "outputs": [
        {
          "output_type": "stream",
          "name": "stdout",
          "text": [
            "  limón , fresa,  manzana  , aguacate  \n",
            "Jose\n",
            "JOSE\n",
            "  LIMÓN , FR3S4,  M4NZ4N4  , 4GU4C4T3  \n",
            "  LIMÓN , FR3S4,  M4NZ4N4  , 4GU4C4T3  \n",
            "-.-.-.-.-.-.-.-.-.-.-.-.-.-.-.-.-.-.-\n",
            "limón , fresa,  manzana  , aguacate\n",
            "['  limón ', ' fresa', '  manzana  ', ' aguacate  ']\n",
            "6\n"
          ]
        }
      ]
    },
    {
      "cell_type": "code",
      "metadata": {
        "colab": {
          "base_uri": "https://localhost:8080/"
        },
        "id": "w4KYy2fl7o7u",
        "outputId": "109110e8-f4ce-4135-a914-c85e29ac20c1"
      },
      "source": [
        "dir(str)"
      ],
      "execution_count": 48,
      "outputs": [
        {
          "output_type": "execute_result",
          "data": {
            "text/plain": [
              "['__add__',\n",
              " '__class__',\n",
              " '__contains__',\n",
              " '__delattr__',\n",
              " '__dir__',\n",
              " '__doc__',\n",
              " '__eq__',\n",
              " '__format__',\n",
              " '__ge__',\n",
              " '__getattribute__',\n",
              " '__getitem__',\n",
              " '__getnewargs__',\n",
              " '__gt__',\n",
              " '__hash__',\n",
              " '__init__',\n",
              " '__init_subclass__',\n",
              " '__iter__',\n",
              " '__le__',\n",
              " '__len__',\n",
              " '__lt__',\n",
              " '__mod__',\n",
              " '__mul__',\n",
              " '__ne__',\n",
              " '__new__',\n",
              " '__reduce__',\n",
              " '__reduce_ex__',\n",
              " '__repr__',\n",
              " '__rmod__',\n",
              " '__rmul__',\n",
              " '__setattr__',\n",
              " '__sizeof__',\n",
              " '__str__',\n",
              " '__subclasshook__',\n",
              " 'capitalize',\n",
              " 'casefold',\n",
              " 'center',\n",
              " 'count',\n",
              " 'encode',\n",
              " 'endswith',\n",
              " 'expandtabs',\n",
              " 'find',\n",
              " 'format',\n",
              " 'format_map',\n",
              " 'index',\n",
              " 'isalnum',\n",
              " 'isalpha',\n",
              " 'isascii',\n",
              " 'isdecimal',\n",
              " 'isdigit',\n",
              " 'isidentifier',\n",
              " 'islower',\n",
              " 'isnumeric',\n",
              " 'isprintable',\n",
              " 'isspace',\n",
              " 'istitle',\n",
              " 'isupper',\n",
              " 'join',\n",
              " 'ljust',\n",
              " 'lower',\n",
              " 'lstrip',\n",
              " 'maketrans',\n",
              " 'partition',\n",
              " 'replace',\n",
              " 'rfind',\n",
              " 'rindex',\n",
              " 'rjust',\n",
              " 'rpartition',\n",
              " 'rsplit',\n",
              " 'rstrip',\n",
              " 'split',\n",
              " 'splitlines',\n",
              " 'startswith',\n",
              " 'strip',\n",
              " 'swapcase',\n",
              " 'title',\n",
              " 'translate',\n",
              " 'upper',\n",
              " 'zfill']"
            ]
          },
          "metadata": {},
          "execution_count": 48
        }
      ]
    },
    {
      "cell_type": "markdown",
      "metadata": {
        "id": "i41jBwiZ8eHR"
      },
      "source": [
        "# String y caracteres de escape\n",
        "\n",
        "\"Jose\"\n",
        "- \\\" --> \"\n",
        "- \\' --> '\n",
        "- \\n --> Salto de línea (tecla enter)\n",
        "- \\t --> Tabulador espacios a la izq.\n",
        "- \\uxxxx --> Caracteres unicode \n",
        "- \\Uxxxxxxxx --> Unicode extendido"
      ]
    },
    {
      "cell_type": "code",
      "metadata": {
        "colab": {
          "base_uri": "https://localhost:8080/"
        },
        "id": "kPIWqO8688SK",
        "outputId": "925dc98f-bf68-48c7-fdf1-55eb90c210c2"
      },
      "source": [
        "print(\"\\\"jose\\\" \")\n",
        "nombre = \"\\\"jose\\\" \"\n",
        "print( nombre )\n",
        "carrera = \"Ingeniería \\n\\ten \\n\\t\\tComputación\"\n",
        "print( carrera )"
      ],
      "execution_count": 53,
      "outputs": [
        {
          "output_type": "stream",
          "name": "stdout",
          "text": [
            "\"jose\" \n",
            "\"jose\" \n",
            "Ingeniería \n",
            "\ten \n",
            "\t\tComputación\n"
          ]
        }
      ]
    }
  ]
}